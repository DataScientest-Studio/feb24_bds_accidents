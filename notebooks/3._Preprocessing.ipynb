{
 "cells": [
  {
   "cell_type": "markdown",
   "metadata": {},
   "source": [
    "## Import"
   ]
  },
  {
   "cell_type": "code",
   "execution_count": 2,
   "metadata": {},
   "outputs": [],
   "source": [
    "import sys\n",
    "sys.path.append('..')\n",
    "\n",
    "import matplotlib.pyplot as plt\n",
    "import numpy as np\n",
    "import pandas as pd\n",
    "import seaborn as sns\n",
    "\n",
    "from imblearn.under_sampling import RandomUnderSampler\n",
    "from sklearn.base import BaseEstimator, TransformerMixin\n",
    "from sklearn.feature_selection import SelectKBest, chi2\n",
    "from sklearn.impute import SimpleImputer\n",
    "from sklearn.model_selection import train_test_split\n",
    "from sklearn.preprocessing import LabelEncoder\n",
    "\n",
    "from global_vars import chargement_df"
   ]
  },
  {
   "cell_type": "markdown",
   "metadata": {},
   "source": [
    "## 4. Preprocessing"
   ]
  },
  {
   "cell_type": "markdown",
   "metadata": {},
   "source": [
    "### 4.1 Homogénéisation de variables\n",
    "\n",
    "- Homogénéisation de la variable 'an'\n",
    "- Homogénéisation de la variable 'hrmn'"
   ]
  },
  {
   "cell_type": "markdown",
   "metadata": {},
   "source": [
    "#### 4.1.1 Homogénéisation de la variable 'an'"
   ]
  },
  {
   "cell_type": "code",
   "execution_count": null,
   "metadata": {},
   "outputs": [],
   "source": [
    "df = chargement_df()"
   ]
  },
  {
   "cell_type": "code",
   "execution_count": null,
   "metadata": {},
   "outputs": [
    {
     "name": "stdout",
     "output_type": "stream",
     "text": [
      "Valeurs uniques pour la colonne 'an' après transformation :\n",
      "[2005 2006 2007 2008 2009 2010 2011 2012 2013 2014 2015 2016 2017 2018\n",
      " 2019 2020 2021 2022]\n",
      "0          2005\n",
      "1          2005\n",
      "2          2005\n",
      "3          2005\n",
      "4          2005\n",
      "           ... \n",
      "2636484    2022\n",
      "2636485    2022\n",
      "2636486    2022\n",
      "2636487    2022\n",
      "2636488    2022\n",
      "Name: an, Length: 2636489, dtype: int64\n"
     ]
    }
   ],
   "source": [
    "# Définir un dictionnaire de mapping pour convertir les valeurs de 'an'\n",
    "mapping = {5: 2005, 6: 2006, 7: 2007, 8: 2008, 9: 2009, 10: 2010, \n",
    "           11: 2011, 12: 2012, 13: 2013, 14: 2014, 15: 2015, \n",
    "           16: 2016, 17: 2017, 18: 2018, 2019: 2019, 2020: 2020,\n",
    "           2021: 2021, 2022: 2022}\n",
    "\n",
    "# Appliquer la transformation en utilisant le mapping\n",
    "df['an'] = df['an'].map(mapping)\n",
    "\n",
    "# Vérifier les valeurs uniques après transformation\n",
    "print(\"Valeurs uniques pour la colonne 'an' après transformation :\")\n",
    "print(df['an'].unique())\n",
    "print(df['an'])"
   ]
  },
  {
   "cell_type": "markdown",
   "metadata": {},
   "source": [
    "#### 4.1.2 Homogénéisation de la variable hrmn"
   ]
  },
  {
   "cell_type": "code",
   "execution_count": null,
   "metadata": {},
   "outputs": [],
   "source": [
    "# Définition de la fonction pour homogénéiser le format de l'heure\n",
    "def homogenize_hour_format(row):\n",
    "    # Convertir l'heure en chaîne de caractères\n",
    "    hour_str = str(row['hrmn'])\n",
    "    \n",
    "    # Si l'année est comprise entre 2005 et 2018, ajuster le format de l'heure\n",
    "    if row['an'] < 2019:\n",
    "        # Extraire les deux derniers chiffres pour les minutes\n",
    "        minutes = hour_str[-2:].zfill(2)\n",
    "        \n",
    "        # Les chiffres restants sont pour les heures\n",
    "        hour = hour_str[:-2].zfill(2)\n",
    "        \n",
    "        # Concaténer avec ':' pour obtenir le format 'HH:MM'\n",
    "        return f'{hour}:{minutes}'\n",
    "    \n",
    "    # Si l'année est 2019 ou plus, le format est déjà 'HH:MM'\n",
    "    return hour_str\n",
    "\n",
    "# Appliquer la fonction à la colonne 'hrmn'\n",
    "df['hrmn'] = df.apply(homogenize_hour_format, axis=1)\n",
    "\n"
   ]
  },
  {
   "cell_type": "code",
   "execution_count": null,
   "metadata": {},
   "outputs": [
    {
     "data": {
      "text/html": [
       "<div>\n",
       "<style scoped>\n",
       "    .dataframe tbody tr th:only-of-type {\n",
       "        vertical-align: middle;\n",
       "    }\n",
       "\n",
       "    .dataframe tbody tr th {\n",
       "        vertical-align: top;\n",
       "    }\n",
       "\n",
       "    .dataframe thead th {\n",
       "        text-align: right;\n",
       "    }\n",
       "</style>\n",
       "<table border=\"1\" class=\"dataframe\">\n",
       "  <thead>\n",
       "    <tr style=\"text-align: right;\">\n",
       "      <th></th>\n",
       "      <th>Num_Acc</th>\n",
       "      <th>place</th>\n",
       "      <th>catu</th>\n",
       "      <th>grav</th>\n",
       "      <th>sexe</th>\n",
       "      <th>trajet</th>\n",
       "      <th>secu</th>\n",
       "      <th>locp</th>\n",
       "      <th>actp</th>\n",
       "      <th>etatp</th>\n",
       "      <th>an_nais</th>\n",
       "      <th>num_veh</th>\n",
       "      <th>id_vehicule_x</th>\n",
       "      <th>secu1</th>\n",
       "      <th>secu2</th>\n",
       "      <th>secu3</th>\n",
       "      <th>id_usager</th>\n",
       "      <th>senc</th>\n",
       "      <th>catv</th>\n",
       "      <th>occutc</th>\n",
       "      <th>obs</th>\n",
       "      <th>obsm</th>\n",
       "      <th>choc</th>\n",
       "      <th>manv</th>\n",
       "      <th>id_vehicule_y</th>\n",
       "      <th>motor</th>\n",
       "      <th>an</th>\n",
       "      <th>mois</th>\n",
       "      <th>jour</th>\n",
       "      <th>hrmn</th>\n",
       "      <th>lum</th>\n",
       "      <th>agg</th>\n",
       "      <th>int</th>\n",
       "      <th>atm</th>\n",
       "      <th>col</th>\n",
       "      <th>com</th>\n",
       "      <th>adr</th>\n",
       "      <th>gps</th>\n",
       "      <th>lat</th>\n",
       "      <th>long</th>\n",
       "      <th>dep</th>\n",
       "      <th>catr</th>\n",
       "      <th>voie</th>\n",
       "      <th>v1</th>\n",
       "      <th>v2</th>\n",
       "      <th>circ</th>\n",
       "      <th>nbv</th>\n",
       "      <th>pr</th>\n",
       "      <th>pr1</th>\n",
       "      <th>vosp</th>\n",
       "      <th>prof</th>\n",
       "      <th>plan</th>\n",
       "      <th>lartpc</th>\n",
       "      <th>larrout</th>\n",
       "      <th>surf</th>\n",
       "      <th>infra</th>\n",
       "      <th>situ</th>\n",
       "      <th>env1</th>\n",
       "      <th>vma</th>\n",
       "    </tr>\n",
       "  </thead>\n",
       "  <tbody>\n",
       "    <tr>\n",
       "      <th>0</th>\n",
       "      <td>200500000001</td>\n",
       "      <td>1.0</td>\n",
       "      <td>1</td>\n",
       "      <td>4</td>\n",
       "      <td>1</td>\n",
       "      <td>1.0</td>\n",
       "      <td>11.0</td>\n",
       "      <td>0.0</td>\n",
       "      <td>0.0</td>\n",
       "      <td>0.0</td>\n",
       "      <td>1976.0</td>\n",
       "      <td>A01</td>\n",
       "      <td>NaN</td>\n",
       "      <td>NaN</td>\n",
       "      <td>NaN</td>\n",
       "      <td>NaN</td>\n",
       "      <td>NaN</td>\n",
       "      <td>0.0</td>\n",
       "      <td>7</td>\n",
       "      <td>0.0</td>\n",
       "      <td>0.0</td>\n",
       "      <td>2.0</td>\n",
       "      <td>1.0</td>\n",
       "      <td>1.0</td>\n",
       "      <td>NaN</td>\n",
       "      <td>NaN</td>\n",
       "      <td>2005</td>\n",
       "      <td>1</td>\n",
       "      <td>12</td>\n",
       "      <td>19:00</td>\n",
       "      <td>3</td>\n",
       "      <td>2</td>\n",
       "      <td>1</td>\n",
       "      <td>1.0</td>\n",
       "      <td>3.0</td>\n",
       "      <td>11.0</td>\n",
       "      <td>CD41B</td>\n",
       "      <td>M</td>\n",
       "      <td>5051500.0</td>\n",
       "      <td>294400.0</td>\n",
       "      <td>590</td>\n",
       "      <td>3.0</td>\n",
       "      <td>41.0</td>\n",
       "      <td>0.0</td>\n",
       "      <td>B</td>\n",
       "      <td>2.0</td>\n",
       "      <td>2.0</td>\n",
       "      <td>1.0</td>\n",
       "      <td>430.0</td>\n",
       "      <td>0.0</td>\n",
       "      <td>1.0</td>\n",
       "      <td>1.0</td>\n",
       "      <td>0.0</td>\n",
       "      <td>63.0</td>\n",
       "      <td>1.0</td>\n",
       "      <td>0.0</td>\n",
       "      <td>1.0</td>\n",
       "      <td>0.0</td>\n",
       "      <td>NaN</td>\n",
       "    </tr>\n",
       "    <tr>\n",
       "      <th>1</th>\n",
       "      <td>200500000001</td>\n",
       "      <td>1.0</td>\n",
       "      <td>1</td>\n",
       "      <td>3</td>\n",
       "      <td>2</td>\n",
       "      <td>3.0</td>\n",
       "      <td>11.0</td>\n",
       "      <td>0.0</td>\n",
       "      <td>0.0</td>\n",
       "      <td>0.0</td>\n",
       "      <td>1968.0</td>\n",
       "      <td>B02</td>\n",
       "      <td>NaN</td>\n",
       "      <td>NaN</td>\n",
       "      <td>NaN</td>\n",
       "      <td>NaN</td>\n",
       "      <td>NaN</td>\n",
       "      <td>0.0</td>\n",
       "      <td>7</td>\n",
       "      <td>0.0</td>\n",
       "      <td>0.0</td>\n",
       "      <td>2.0</td>\n",
       "      <td>8.0</td>\n",
       "      <td>10.0</td>\n",
       "      <td>NaN</td>\n",
       "      <td>NaN</td>\n",
       "      <td>2005</td>\n",
       "      <td>1</td>\n",
       "      <td>12</td>\n",
       "      <td>19:00</td>\n",
       "      <td>3</td>\n",
       "      <td>2</td>\n",
       "      <td>1</td>\n",
       "      <td>1.0</td>\n",
       "      <td>3.0</td>\n",
       "      <td>11.0</td>\n",
       "      <td>CD41B</td>\n",
       "      <td>M</td>\n",
       "      <td>5051500.0</td>\n",
       "      <td>294400.0</td>\n",
       "      <td>590</td>\n",
       "      <td>3.0</td>\n",
       "      <td>41.0</td>\n",
       "      <td>0.0</td>\n",
       "      <td>B</td>\n",
       "      <td>2.0</td>\n",
       "      <td>2.0</td>\n",
       "      <td>1.0</td>\n",
       "      <td>430.0</td>\n",
       "      <td>0.0</td>\n",
       "      <td>1.0</td>\n",
       "      <td>1.0</td>\n",
       "      <td>0.0</td>\n",
       "      <td>63.0</td>\n",
       "      <td>1.0</td>\n",
       "      <td>0.0</td>\n",
       "      <td>1.0</td>\n",
       "      <td>0.0</td>\n",
       "      <td>NaN</td>\n",
       "    </tr>\n",
       "    <tr>\n",
       "      <th>2</th>\n",
       "      <td>200500000001</td>\n",
       "      <td>2.0</td>\n",
       "      <td>2</td>\n",
       "      <td>1</td>\n",
       "      <td>1</td>\n",
       "      <td>0.0</td>\n",
       "      <td>11.0</td>\n",
       "      <td>0.0</td>\n",
       "      <td>0.0</td>\n",
       "      <td>0.0</td>\n",
       "      <td>1964.0</td>\n",
       "      <td>B02</td>\n",
       "      <td>NaN</td>\n",
       "      <td>NaN</td>\n",
       "      <td>NaN</td>\n",
       "      <td>NaN</td>\n",
       "      <td>NaN</td>\n",
       "      <td>0.0</td>\n",
       "      <td>7</td>\n",
       "      <td>0.0</td>\n",
       "      <td>0.0</td>\n",
       "      <td>2.0</td>\n",
       "      <td>8.0</td>\n",
       "      <td>10.0</td>\n",
       "      <td>NaN</td>\n",
       "      <td>NaN</td>\n",
       "      <td>2005</td>\n",
       "      <td>1</td>\n",
       "      <td>12</td>\n",
       "      <td>19:00</td>\n",
       "      <td>3</td>\n",
       "      <td>2</td>\n",
       "      <td>1</td>\n",
       "      <td>1.0</td>\n",
       "      <td>3.0</td>\n",
       "      <td>11.0</td>\n",
       "      <td>CD41B</td>\n",
       "      <td>M</td>\n",
       "      <td>5051500.0</td>\n",
       "      <td>294400.0</td>\n",
       "      <td>590</td>\n",
       "      <td>3.0</td>\n",
       "      <td>41.0</td>\n",
       "      <td>0.0</td>\n",
       "      <td>B</td>\n",
       "      <td>2.0</td>\n",
       "      <td>2.0</td>\n",
       "      <td>1.0</td>\n",
       "      <td>430.0</td>\n",
       "      <td>0.0</td>\n",
       "      <td>1.0</td>\n",
       "      <td>1.0</td>\n",
       "      <td>0.0</td>\n",
       "      <td>63.0</td>\n",
       "      <td>1.0</td>\n",
       "      <td>0.0</td>\n",
       "      <td>1.0</td>\n",
       "      <td>0.0</td>\n",
       "      <td>NaN</td>\n",
       "    </tr>\n",
       "    <tr>\n",
       "      <th>3</th>\n",
       "      <td>200500000001</td>\n",
       "      <td>4.0</td>\n",
       "      <td>2</td>\n",
       "      <td>1</td>\n",
       "      <td>1</td>\n",
       "      <td>0.0</td>\n",
       "      <td>31.0</td>\n",
       "      <td>0.0</td>\n",
       "      <td>0.0</td>\n",
       "      <td>0.0</td>\n",
       "      <td>2004.0</td>\n",
       "      <td>B02</td>\n",
       "      <td>NaN</td>\n",
       "      <td>NaN</td>\n",
       "      <td>NaN</td>\n",
       "      <td>NaN</td>\n",
       "      <td>NaN</td>\n",
       "      <td>0.0</td>\n",
       "      <td>7</td>\n",
       "      <td>0.0</td>\n",
       "      <td>0.0</td>\n",
       "      <td>2.0</td>\n",
       "      <td>8.0</td>\n",
       "      <td>10.0</td>\n",
       "      <td>NaN</td>\n",
       "      <td>NaN</td>\n",
       "      <td>2005</td>\n",
       "      <td>1</td>\n",
       "      <td>12</td>\n",
       "      <td>19:00</td>\n",
       "      <td>3</td>\n",
       "      <td>2</td>\n",
       "      <td>1</td>\n",
       "      <td>1.0</td>\n",
       "      <td>3.0</td>\n",
       "      <td>11.0</td>\n",
       "      <td>CD41B</td>\n",
       "      <td>M</td>\n",
       "      <td>5051500.0</td>\n",
       "      <td>294400.0</td>\n",
       "      <td>590</td>\n",
       "      <td>3.0</td>\n",
       "      <td>41.0</td>\n",
       "      <td>0.0</td>\n",
       "      <td>B</td>\n",
       "      <td>2.0</td>\n",
       "      <td>2.0</td>\n",
       "      <td>1.0</td>\n",
       "      <td>430.0</td>\n",
       "      <td>0.0</td>\n",
       "      <td>1.0</td>\n",
       "      <td>1.0</td>\n",
       "      <td>0.0</td>\n",
       "      <td>63.0</td>\n",
       "      <td>1.0</td>\n",
       "      <td>0.0</td>\n",
       "      <td>1.0</td>\n",
       "      <td>0.0</td>\n",
       "      <td>NaN</td>\n",
       "    </tr>\n",
       "    <tr>\n",
       "      <th>4</th>\n",
       "      <td>200500000001</td>\n",
       "      <td>5.0</td>\n",
       "      <td>2</td>\n",
       "      <td>1</td>\n",
       "      <td>1</td>\n",
       "      <td>0.0</td>\n",
       "      <td>11.0</td>\n",
       "      <td>0.0</td>\n",
       "      <td>0.0</td>\n",
       "      <td>0.0</td>\n",
       "      <td>1998.0</td>\n",
       "      <td>B02</td>\n",
       "      <td>NaN</td>\n",
       "      <td>NaN</td>\n",
       "      <td>NaN</td>\n",
       "      <td>NaN</td>\n",
       "      <td>NaN</td>\n",
       "      <td>0.0</td>\n",
       "      <td>7</td>\n",
       "      <td>0.0</td>\n",
       "      <td>0.0</td>\n",
       "      <td>2.0</td>\n",
       "      <td>8.0</td>\n",
       "      <td>10.0</td>\n",
       "      <td>NaN</td>\n",
       "      <td>NaN</td>\n",
       "      <td>2005</td>\n",
       "      <td>1</td>\n",
       "      <td>12</td>\n",
       "      <td>19:00</td>\n",
       "      <td>3</td>\n",
       "      <td>2</td>\n",
       "      <td>1</td>\n",
       "      <td>1.0</td>\n",
       "      <td>3.0</td>\n",
       "      <td>11.0</td>\n",
       "      <td>CD41B</td>\n",
       "      <td>M</td>\n",
       "      <td>5051500.0</td>\n",
       "      <td>294400.0</td>\n",
       "      <td>590</td>\n",
       "      <td>3.0</td>\n",
       "      <td>41.0</td>\n",
       "      <td>0.0</td>\n",
       "      <td>B</td>\n",
       "      <td>2.0</td>\n",
       "      <td>2.0</td>\n",
       "      <td>1.0</td>\n",
       "      <td>430.0</td>\n",
       "      <td>0.0</td>\n",
       "      <td>1.0</td>\n",
       "      <td>1.0</td>\n",
       "      <td>0.0</td>\n",
       "      <td>63.0</td>\n",
       "      <td>1.0</td>\n",
       "      <td>0.0</td>\n",
       "      <td>1.0</td>\n",
       "      <td>0.0</td>\n",
       "      <td>NaN</td>\n",
       "    </tr>\n",
       "  </tbody>\n",
       "</table>\n",
       "</div>"
      ],
      "text/plain": [
       "        Num_Acc  place  catu  grav  sexe  trajet  secu  locp actp  etatp  \\\n",
       "0  200500000001    1.0     1     4     1     1.0  11.0   0.0  0.0    0.0   \n",
       "1  200500000001    1.0     1     3     2     3.0  11.0   0.0  0.0    0.0   \n",
       "2  200500000001    2.0     2     1     1     0.0  11.0   0.0  0.0    0.0   \n",
       "3  200500000001    4.0     2     1     1     0.0  31.0   0.0  0.0    0.0   \n",
       "4  200500000001    5.0     2     1     1     0.0  11.0   0.0  0.0    0.0   \n",
       "\n",
       "   an_nais num_veh id_vehicule_x  secu1  secu2  secu3 id_usager  senc  catv  \\\n",
       "0   1976.0     A01           NaN    NaN    NaN    NaN       NaN   0.0     7   \n",
       "1   1968.0     B02           NaN    NaN    NaN    NaN       NaN   0.0     7   \n",
       "2   1964.0     B02           NaN    NaN    NaN    NaN       NaN   0.0     7   \n",
       "3   2004.0     B02           NaN    NaN    NaN    NaN       NaN   0.0     7   \n",
       "4   1998.0     B02           NaN    NaN    NaN    NaN       NaN   0.0     7   \n",
       "\n",
       "   occutc  obs  obsm  choc  manv id_vehicule_y  motor    an  mois  jour  \\\n",
       "0     0.0  0.0   2.0   1.0   1.0           NaN    NaN  2005     1    12   \n",
       "1     0.0  0.0   2.0   8.0  10.0           NaN    NaN  2005     1    12   \n",
       "2     0.0  0.0   2.0   8.0  10.0           NaN    NaN  2005     1    12   \n",
       "3     0.0  0.0   2.0   8.0  10.0           NaN    NaN  2005     1    12   \n",
       "4     0.0  0.0   2.0   8.0  10.0           NaN    NaN  2005     1    12   \n",
       "\n",
       "    hrmn  lum  agg  int  atm  col   com    adr gps        lat      long  dep  \\\n",
       "0  19:00    3    2    1  1.0  3.0  11.0  CD41B   M  5051500.0  294400.0  590   \n",
       "1  19:00    3    2    1  1.0  3.0  11.0  CD41B   M  5051500.0  294400.0  590   \n",
       "2  19:00    3    2    1  1.0  3.0  11.0  CD41B   M  5051500.0  294400.0  590   \n",
       "3  19:00    3    2    1  1.0  3.0  11.0  CD41B   M  5051500.0  294400.0  590   \n",
       "4  19:00    3    2    1  1.0  3.0  11.0  CD41B   M  5051500.0  294400.0  590   \n",
       "\n",
       "   catr  voie   v1 v2  circ  nbv   pr    pr1  vosp  prof  plan lartpc larrout  \\\n",
       "0   3.0  41.0  0.0  B   2.0  2.0  1.0  430.0   0.0   1.0   1.0    0.0    63.0   \n",
       "1   3.0  41.0  0.0  B   2.0  2.0  1.0  430.0   0.0   1.0   1.0    0.0    63.0   \n",
       "2   3.0  41.0  0.0  B   2.0  2.0  1.0  430.0   0.0   1.0   1.0    0.0    63.0   \n",
       "3   3.0  41.0  0.0  B   2.0  2.0  1.0  430.0   0.0   1.0   1.0    0.0    63.0   \n",
       "4   3.0  41.0  0.0  B   2.0  2.0  1.0  430.0   0.0   1.0   1.0    0.0    63.0   \n",
       "\n",
       "   surf  infra  situ  env1  vma  \n",
       "0   1.0    0.0   1.0   0.0  NaN  \n",
       "1   1.0    0.0   1.0   0.0  NaN  \n",
       "2   1.0    0.0   1.0   0.0  NaN  \n",
       "3   1.0    0.0   1.0   0.0  NaN  \n",
       "4   1.0    0.0   1.0   0.0  NaN  "
      ]
     },
     "metadata": {},
     "output_type": "display_data"
    }
   ],
   "source": [
    "df.head()"
   ]
  },
  {
   "cell_type": "markdown",
   "metadata": {},
   "source": [
    "### 4. Option Selection de la période 2014 à 2022"
   ]
  },
  {
   "cell_type": "code",
   "execution_count": null,
   "metadata": {},
   "outputs": [],
   "source": [
    "# Filtrer les valeurs de 'an' supérieures à 2013\n",
    "df = df.loc[df['an'] > 2013]"
   ]
  },
  {
   "cell_type": "markdown",
   "metadata": {},
   "source": [
    "### 4.2 Suppression des lignes non renseignées pour la target : -301 lignes"
   ]
  },
  {
   "cell_type": "code",
   "execution_count": null,
   "metadata": {},
   "outputs": [
    {
     "name": "stdout",
     "output_type": "stream",
     "text": [
      "Décompte des valeurs de 'grav':\n",
      "grav\n",
      " 1    1082803\n",
      " 4     961920\n",
      " 3     520836\n",
      " 2      70629\n",
      "-1        301\n",
      "Name: count, dtype: int64\n",
      "\n",
      "Pourcentage de chaque valeur de 'grav':\n",
      "grav\n",
      " 1    41.069885\n",
      " 4    36.484886\n",
      " 3    19.754909\n",
      " 2     2.678904\n",
      "-1     0.011417\n",
      "Name: count, dtype: float64\n",
      "\n",
      "Nombre de valeurs manquantes (NA): 0\n"
     ]
    }
   ],
   "source": [
    "# Comptage des valeurs de la colonne 'grav'\n",
    "count_values = df['grav'].value_counts(dropna=False)\n",
    "\n",
    "# Nombre de valeurs manquantes\n",
    "na_count = df['grav'].isna().sum()\n",
    "\n",
    "# Calcul du pourcentage de chaque valeur de 'grav'\n",
    "percentage_values = (count_values / len(df)) * 100\n",
    "\n",
    "# Affichage des résultats\n",
    "print(\"Décompte des valeurs de 'grav':\")\n",
    "print(count_values)\n",
    "print(\"\\nPourcentage de chaque valeur de 'grav':\")\n",
    "print(percentage_values)\n",
    "print(\"\\nNombre de valeurs manquantes (NA):\", na_count)"
   ]
  },
  {
   "cell_type": "code",
   "execution_count": null,
   "metadata": {},
   "outputs": [],
   "source": [
    "# Recherche des indices des lignes où 'grav' est égal à -1\n",
    "indices_to_drop = df.index[df['grav'] == -1]\n",
    "\n",
    "# Suppression des lignes correspondantes\n",
    "df.drop(indices_to_drop, inplace=True)"
   ]
  },
  {
   "cell_type": "markdown",
   "metadata": {},
   "source": [
    "### 4.3 Suppression des lignes doublons"
   ]
  },
  {
   "cell_type": "code",
   "execution_count": null,
   "metadata": {},
   "outputs": [
    {
     "name": "stdout",
     "output_type": "stream",
     "text": [
      "Nombre de doublons trouvés : 2858\n"
     ]
    }
   ],
   "source": [
    "# Recherche de doublons\n",
    "duplicates = df[df.duplicated()]\n",
    "\n",
    "# Compte le nombre de lignes identiques\n",
    "num_duplicates = len(duplicates)\n",
    "print(\"Nombre de doublons trouvés :\", num_duplicates)"
   ]
  },
  {
   "cell_type": "code",
   "execution_count": null,
   "metadata": {},
   "outputs": [],
   "source": [
    "df = df.drop_duplicates()\n",
    "df = df.reset_index(drop=True)"
   ]
  },
  {
   "cell_type": "markdown",
   "metadata": {},
   "source": [
    "### 4.3bis Suppression de Variables\n"
   ]
  },
  {
   "cell_type": "code",
   "execution_count": null,
   "metadata": {},
   "outputs": [],
   "source": [
    "# Suppression des variables Ajout/Suppression 2019\n",
    "df.drop(columns=['secu', 'secu1', 'secu2', 'secu3', 'motor', 'lartpc', 'env1', 'vma'], inplace=True)"
   ]
  },
  {
   "cell_type": "code",
   "execution_count": null,
   "metadata": {},
   "outputs": [],
   "source": [
    "# Suppression des variables à forte proportion de NaN et -1\n",
    "df.drop(columns=['occutc', 'lat', 'long', 'v1', 'v2', 'pr', 'pr1', 'larrout','gps'], inplace=True)"
   ]
  },
  {
   "cell_type": "code",
   "execution_count": null,
   "metadata": {},
   "outputs": [],
   "source": [
    "# Suppression des variables dites techniques\n",
    "df.drop(columns=['Num_Acc', 'num_veh', 'id_vehicule_y', 'id_vehicule_x', 'id_usager'], inplace=True)"
   ]
  },
  {
   "cell_type": "code",
   "execution_count": null,
   "metadata": {},
   "outputs": [],
   "source": [
    "# Suppression des variables jugées non pertinentes\n",
    "df.drop(columns=['adr', 'com', 'dep', 'voie', 'nbv'], inplace=True)"
   ]
  },
  {
   "cell_type": "code",
   "execution_count": null,
   "metadata": {},
   "outputs": [],
   "source": [
    "# Suppression des variables présentant une catégorie dominantes\n",
    "df.drop(columns=['actp', 'etatp', 'locp', 'obs', 'senc', 'trajet', 'vosp'], inplace=True)"
   ]
  },
  {
   "cell_type": "code",
   "execution_count": null,
   "metadata": {},
   "outputs": [
    {
     "data": {
      "text/plain": [
       "False    2631960\n",
       "True        1370\n",
       "Name: count, dtype: int64"
      ]
     },
     "metadata": {},
     "output_type": "display_data"
    }
   ],
   "source": [
    "df.duplicated().value_counts()"
   ]
  },
  {
   "cell_type": "code",
   "execution_count": null,
   "metadata": {},
   "outputs": [],
   "source": [
    "df = df.drop_duplicates()\n",
    "df = df.reset_index(drop=True)"
   ]
  },
  {
   "cell_type": "code",
   "execution_count": null,
   "metadata": {},
   "outputs": [
    {
     "data": {
      "text/html": [
       "<div>\n",
       "<style scoped>\n",
       "    .dataframe tbody tr th:only-of-type {\n",
       "        vertical-align: middle;\n",
       "    }\n",
       "\n",
       "    .dataframe tbody tr th {\n",
       "        vertical-align: top;\n",
       "    }\n",
       "\n",
       "    .dataframe thead th {\n",
       "        text-align: right;\n",
       "    }\n",
       "</style>\n",
       "<table border=\"1\" class=\"dataframe\">\n",
       "  <thead>\n",
       "    <tr style=\"text-align: right;\">\n",
       "      <th></th>\n",
       "      <th>place</th>\n",
       "      <th>catu</th>\n",
       "      <th>grav</th>\n",
       "      <th>sexe</th>\n",
       "      <th>an_nais</th>\n",
       "      <th>catv</th>\n",
       "      <th>obsm</th>\n",
       "      <th>choc</th>\n",
       "      <th>manv</th>\n",
       "      <th>an</th>\n",
       "      <th>mois</th>\n",
       "      <th>jour</th>\n",
       "      <th>hrmn</th>\n",
       "      <th>lum</th>\n",
       "      <th>agg</th>\n",
       "      <th>int</th>\n",
       "      <th>atm</th>\n",
       "      <th>col</th>\n",
       "      <th>catr</th>\n",
       "      <th>circ</th>\n",
       "      <th>prof</th>\n",
       "      <th>plan</th>\n",
       "      <th>surf</th>\n",
       "      <th>infra</th>\n",
       "      <th>situ</th>\n",
       "    </tr>\n",
       "  </thead>\n",
       "  <tbody>\n",
       "    <tr>\n",
       "      <th>0</th>\n",
       "      <td>1.0</td>\n",
       "      <td>1</td>\n",
       "      <td>3</td>\n",
       "      <td>1</td>\n",
       "      <td>1928.0</td>\n",
       "      <td>7</td>\n",
       "      <td>2.0</td>\n",
       "      <td>3.0</td>\n",
       "      <td>1.0</td>\n",
       "      <td>2018</td>\n",
       "      <td>1</td>\n",
       "      <td>24</td>\n",
       "      <td>15:05</td>\n",
       "      <td>1</td>\n",
       "      <td>1</td>\n",
       "      <td>4</td>\n",
       "      <td>1.0</td>\n",
       "      <td>1.0</td>\n",
       "      <td>3.0</td>\n",
       "      <td>2.0</td>\n",
       "      <td>1.0</td>\n",
       "      <td>3.0</td>\n",
       "      <td>1.0</td>\n",
       "      <td>0.0</td>\n",
       "      <td>1.0</td>\n",
       "    </tr>\n",
       "    <tr>\n",
       "      <th>1</th>\n",
       "      <td>1.0</td>\n",
       "      <td>1</td>\n",
       "      <td>1</td>\n",
       "      <td>1</td>\n",
       "      <td>1960.0</td>\n",
       "      <td>7</td>\n",
       "      <td>2.0</td>\n",
       "      <td>2.0</td>\n",
       "      <td>15.0</td>\n",
       "      <td>2018</td>\n",
       "      <td>1</td>\n",
       "      <td>24</td>\n",
       "      <td>15:05</td>\n",
       "      <td>1</td>\n",
       "      <td>1</td>\n",
       "      <td>4</td>\n",
       "      <td>1.0</td>\n",
       "      <td>1.0</td>\n",
       "      <td>3.0</td>\n",
       "      <td>2.0</td>\n",
       "      <td>1.0</td>\n",
       "      <td>3.0</td>\n",
       "      <td>1.0</td>\n",
       "      <td>0.0</td>\n",
       "      <td>1.0</td>\n",
       "    </tr>\n",
       "    <tr>\n",
       "      <th>2</th>\n",
       "      <td>1.0</td>\n",
       "      <td>1</td>\n",
       "      <td>1</td>\n",
       "      <td>1</td>\n",
       "      <td>1947.0</td>\n",
       "      <td>7</td>\n",
       "      <td>1.0</td>\n",
       "      <td>0.0</td>\n",
       "      <td>1.0</td>\n",
       "      <td>2018</td>\n",
       "      <td>2</td>\n",
       "      <td>12</td>\n",
       "      <td>10:15</td>\n",
       "      <td>1</td>\n",
       "      <td>2</td>\n",
       "      <td>7</td>\n",
       "      <td>7.0</td>\n",
       "      <td>7.0</td>\n",
       "      <td>4.0</td>\n",
       "      <td>2.0</td>\n",
       "      <td>1.0</td>\n",
       "      <td>2.0</td>\n",
       "      <td>1.0</td>\n",
       "      <td>0.0</td>\n",
       "      <td>1.0</td>\n",
       "    </tr>\n",
       "    <tr>\n",
       "      <th>3</th>\n",
       "      <td>NaN</td>\n",
       "      <td>3</td>\n",
       "      <td>4</td>\n",
       "      <td>1</td>\n",
       "      <td>1959.0</td>\n",
       "      <td>7</td>\n",
       "      <td>1.0</td>\n",
       "      <td>0.0</td>\n",
       "      <td>1.0</td>\n",
       "      <td>2018</td>\n",
       "      <td>2</td>\n",
       "      <td>12</td>\n",
       "      <td>10:15</td>\n",
       "      <td>1</td>\n",
       "      <td>2</td>\n",
       "      <td>7</td>\n",
       "      <td>7.0</td>\n",
       "      <td>7.0</td>\n",
       "      <td>4.0</td>\n",
       "      <td>2.0</td>\n",
       "      <td>1.0</td>\n",
       "      <td>2.0</td>\n",
       "      <td>1.0</td>\n",
       "      <td>0.0</td>\n",
       "      <td>1.0</td>\n",
       "    </tr>\n",
       "    <tr>\n",
       "      <th>4</th>\n",
       "      <td>1.0</td>\n",
       "      <td>1</td>\n",
       "      <td>3</td>\n",
       "      <td>1</td>\n",
       "      <td>1987.0</td>\n",
       "      <td>33</td>\n",
       "      <td>2.0</td>\n",
       "      <td>1.0</td>\n",
       "      <td>1.0</td>\n",
       "      <td>2018</td>\n",
       "      <td>3</td>\n",
       "      <td>4</td>\n",
       "      <td>11:35</td>\n",
       "      <td>1</td>\n",
       "      <td>2</td>\n",
       "      <td>3</td>\n",
       "      <td>1.0</td>\n",
       "      <td>7.0</td>\n",
       "      <td>3.0</td>\n",
       "      <td>2.0</td>\n",
       "      <td>1.0</td>\n",
       "      <td>1.0</td>\n",
       "      <td>1.0</td>\n",
       "      <td>0.0</td>\n",
       "      <td>1.0</td>\n",
       "    </tr>\n",
       "  </tbody>\n",
       "</table>\n",
       "</div>"
      ],
      "text/plain": [
       "   place  catu  grav  sexe  an_nais  catv  obsm  choc  manv    an  mois  jour  \\\n",
       "0    1.0     1     3     1   1928.0     7   2.0   3.0   1.0  2018     1    24   \n",
       "1    1.0     1     1     1   1960.0     7   2.0   2.0  15.0  2018     1    24   \n",
       "2    1.0     1     1     1   1947.0     7   1.0   0.0   1.0  2018     2    12   \n",
       "3    NaN     3     4     1   1959.0     7   1.0   0.0   1.0  2018     2    12   \n",
       "4    1.0     1     3     1   1987.0    33   2.0   1.0   1.0  2018     3     4   \n",
       "\n",
       "    hrmn  lum  agg  int  atm  col  catr  circ  prof  plan  surf  infra  situ  \n",
       "0  15:05    1    1    4  1.0  1.0   3.0   2.0   1.0   3.0   1.0    0.0   1.0  \n",
       "1  15:05    1    1    4  1.0  1.0   3.0   2.0   1.0   3.0   1.0    0.0   1.0  \n",
       "2  10:15    1    2    7  7.0  7.0   4.0   2.0   1.0   2.0   1.0    0.0   1.0  \n",
       "3  10:15    1    2    7  7.0  7.0   4.0   2.0   1.0   2.0   1.0    0.0   1.0  \n",
       "4  11:35    1    2    3  1.0  7.0   3.0   2.0   1.0   1.0   1.0    0.0   1.0  "
      ]
     },
     "metadata": {},
     "output_type": "display_data"
    }
   ],
   "source": [
    "df.head()"
   ]
  },
  {
   "cell_type": "code",
   "execution_count": null,
   "metadata": {},
   "outputs": [],
   "source": [
    "# Sauvegarde de df\n",
    "df_save = df"
   ]
  },
  {
   "cell_type": "code",
   "execution_count": null,
   "metadata": {},
   "outputs": [
    {
     "data": {
      "text/plain": [
       "(1154558, 25)"
      ]
     },
     "metadata": {},
     "output_type": "display_data"
    }
   ],
   "source": [
    "df.shape"
   ]
  },
  {
   "cell_type": "code",
   "execution_count": null,
   "metadata": {},
   "outputs": [
    {
     "ename": "NameError",
     "evalue": "name 'df_save' is not defined",
     "output_type": "error",
     "traceback": [
      "\u001b[1;31m---------------------------------------------------------------------------\u001b[0m\n",
      "\u001b[1;31mNameError\u001b[0m                                 Traceback (most recent call last)\n",
      "Cell \u001b[1;32mIn[108], line 1\u001b[0m\n",
      "\u001b[1;32m----> 1\u001b[0m df \u001b[38;5;241m=\u001b[39m \u001b[43mdf_save\u001b[49m\n",
      "\n",
      "\u001b[1;31mNameError\u001b[0m: name 'df_save' is not defined"
     ]
    }
   ],
   "source": [
    "df = df_save"
   ]
  },
  {
   "cell_type": "markdown",
   "metadata": {},
   "source": [
    "### 4.4 Réduction des catégories des variables"
   ]
  },
  {
   "cell_type": "markdown",
   "metadata": {},
   "source": [
    "#### Modification de la variable catv"
   ]
  },
  {
   "cell_type": "code",
   "execution_count": null,
   "metadata": {},
   "outputs": [],
   "source": [
    "# Création d'un dictionnaire pour mapper les nouvelles valeurs\n",
    "new_catv_mapping = {\n",
    "    1: [1, 50, 60, 80],\n",
    "    2: [2, 4, 5, 30, 31, 32, 33, 34, 41, 42, 43],\n",
    "    3: [7, 8, 9, 10, 11, 12],\n",
    "    4: [13, 14, 15, 16, 17, 37, 38],\n",
    "    5: [19, 20, 21, 35, 36, 39, 40, 99]\n",
    "}\n",
    "# Fonction pour mapper les nouvelles valeurs\n",
    "def map_new_catv_value(old_value):\n",
    "    for new_value, old_values in new_catv_mapping.items():\n",
    "        if old_value in old_values:\n",
    "            return new_value\n",
    "    return None\n",
    "# Supprimer la valeur 00\n",
    "df = df[df['catv'] != 0]\n",
    "\n",
    "# Appliquer la fonction de mapping pour créer les nouvelles valeurs\n",
    "df['catv'] = df['catv'].apply(map_new_catv_value)"
   ]
  },
  {
   "cell_type": "code",
   "execution_count": null,
   "metadata": {},
   "outputs": [
    {
     "data": {
      "text/plain": [
       "False    622283\n",
       "True         23\n",
       "Name: count, dtype: int64"
      ]
     },
     "metadata": {},
     "output_type": "display_data"
    }
   ],
   "source": [
    "df.duplicated().value_counts()"
   ]
  },
  {
   "cell_type": "code",
   "execution_count": null,
   "metadata": {},
   "outputs": [],
   "source": [
    "df = df.drop_duplicates()\n",
    "df = df.reset_index(drop=True)"
   ]
  },
  {
   "cell_type": "markdown",
   "metadata": {},
   "source": [
    "#### Modification de la variable manv"
   ]
  },
  {
   "cell_type": "code",
   "execution_count": null,
   "metadata": {},
   "outputs": [],
   "source": [
    "# Calculer le mode de la variable manv\n",
    "mode_manv = df['manv'].mode()[0]\n",
    "\n",
    "# Remplacer les valeurs -1 et 0 par le mode\n",
    "df.loc[df['manv'].isin([-1, 0]), 'manv'] = mode_manv"
   ]
  },
  {
   "cell_type": "code",
   "execution_count": null,
   "metadata": {},
   "outputs": [],
   "source": [
    "# Création d'un dictionnaire pour mapper les nouvelles valeurs\n",
    "new_manv_mapping = {\n",
    "    1: list(range(1, 11)),\n",
    "    2: [11, 12],\n",
    "    3: [13, 14],\n",
    "    4: [15, 16],\n",
    "    5: [17, 18],\n",
    "    6: list(range(19, 27))\n",
    "}\n",
    "\n",
    "# Fonction pour mapper les nouvelles valeurs\n",
    "def map_new_manv_value(old_value):\n",
    "    for new_value, old_values in new_manv_mapping.items():\n",
    "        if old_value in old_values:\n",
    "            return new_value\n",
    "    return None\n",
    "\n",
    "# Appliquer la fonction de mapping pour créer les nouvelles valeurs\n",
    "df['manv'] = df['manv'].apply(map_new_manv_value)"
   ]
  },
  {
   "cell_type": "code",
   "execution_count": null,
   "metadata": {},
   "outputs": [
    {
     "data": {
      "text/plain": [
       "False    1153420\n",
       "True         109\n",
       "Name: count, dtype: int64"
      ]
     },
     "metadata": {},
     "output_type": "display_data"
    }
   ],
   "source": [
    "df.duplicated().value_counts()"
   ]
  },
  {
   "cell_type": "code",
   "execution_count": null,
   "metadata": {},
   "outputs": [],
   "source": [
    "df = df.drop_duplicates()\n",
    "df = df.reset_index(drop=True)"
   ]
  },
  {
   "cell_type": "code",
   "execution_count": null,
   "metadata": {},
   "outputs": [
    {
     "data": {
      "image/png": "[encoded data removed]",
      "text/plain": [
       "<Figure size 1000x1000 with 2 Axes>"
      ]
     },
     "metadata": {},
     "output_type": "display_data"
    }
   ],
   "source": [
    "# Création d'un subplot avec Seaborn\n",
    "fig, axes = plt.subplots(2, 1, figsize=(10, 10))\n",
    "\n",
    "# Représentation graphique de manv\n",
    "sns.countplot(x='manv', data=df, ax=axes[0])\n",
    "axes[0].set_title('Distribution des classes de manv')\n",
    "\n",
    "# Représentation graphique de catv\n",
    "sns.countplot(x='catv', data=df, ax=axes[1])\n",
    "axes[1].set_title('Distribution des classes de catv')\n",
    "\n",
    "# Afficher les subplots\n",
    "plt.tight_layout()\n",
    "plt.show()"
   ]
  },
  {
   "cell_type": "code",
   "execution_count": null,
   "metadata": {},
   "outputs": [
    {
     "data": {
      "text/plain": [
       "(622306, 25)"
      ]
     },
     "metadata": {},
     "output_type": "display_data"
    }
   ],
   "source": [
    "df.shape"
   ]
  },
  {
   "cell_type": "markdown",
   "metadata": {},
   "source": [
    "#### Variable obsm"
   ]
  },
  {
   "cell_type": "code",
   "execution_count": null,
   "metadata": {},
   "outputs": [
    {
     "name": "stderr",
     "output_type": "stream",
     "text": [
      "C:\\Users\\campa\\AppData\\Local\\Temp\\ipykernel_25816\\2455336654.py:15: SettingWithCopyWarning: \n",
      "A value is trying to be set on a copy of a slice from a DataFrame.\n",
      "Try using .loc[row_indexer,col_indexer] = value instead\n",
      "\n",
      "See the caveats in the documentation: https://pandas.pydata.org/pandas-docs/stable/user_guide/indexing.html#returning-a-view-versus-a-copy\n",
      "  df['obsm'] = df['obsm'].apply(reduce_categories)\n",
      "C:\\Users\\campa\\AppData\\Local\\Temp\\ipykernel_25816\\2455336654.py:19: SettingWithCopyWarning: \n",
      "A value is trying to be set on a copy of a slice from a DataFrame.\n",
      "Try using .loc[row_indexer,col_indexer] = value instead\n",
      "\n",
      "See the caveats in the documentation: https://pandas.pydata.org/pandas-docs/stable/user_guide/indexing.html#returning-a-view-versus-a-copy\n",
      "  df['obsm'] = df['obsm'].fillna(mode_value)\n"
     ]
    }
   ],
   "source": [
    "# Définir la fonction de transformation\n",
    "def reduce_categories(x):\n",
    "    if x == 0:\n",
    "        return 1\n",
    "    elif x == 1:\n",
    "        return 2\n",
    "    elif x == 2:\n",
    "        return 3\n",
    "    elif x in [4, 5, 6, 9]:\n",
    "        return 4\n",
    "    else:\n",
    "        return np.nan\n",
    "\n",
    "# Appliquer la transformation à la colonne 'obsm'\n",
    "df['obsm'] = df['obsm'].apply(reduce_categories)\n",
    "\n",
    "# Remplacer les valeurs manquantes par le mode le plus fréquent\n",
    "mode_value = df['obsm'].mode()[0]\n",
    "df['obsm'] = df['obsm'].fillna(mode_value)"
   ]
  },
  {
   "cell_type": "code",
   "execution_count": null,
   "metadata": {},
   "outputs": [
    {
     "name": "stdout",
     "output_type": "stream",
     "text": [
      "Valeurs uniques et leur décompte pour la variable 'obsm':\n",
      "3.0: 400484 (64.35%)\n",
      "1.0: 118317 (19.01%)\n",
      "2.0: 92926 (14.93%)\n",
      "4.0: 10579 (1.70%)\n",
      "Nombre de valeurs manquantes pour la variable 'obsm': 0\n",
      "Pourcentage de données manquantes pour la variable 'obsm': 0.00%\n"
     ]
    }
   ],
   "source": [
    "locp_counts = df['obsm'].value_counts()\n",
    "total_count = len(df['obsm'])\n",
    "print(\"Valeurs uniques et leur décompte pour la variable 'obsm':\")\n",
    "for value, count in locp_counts.items():\n",
    "    percentage = (count / total_count) * 100\n",
    "    print(f\"{value}: {count} ({percentage:.2f}%)\")\n",
    "    \n",
    "na_count = df['obsm'].isna().sum()\n",
    "percentage_missing = (na_count / total_count) * 100\n",
    "print(\"Nombre de valeurs manquantes pour la variable 'obsm':\", na_count)\n",
    "print(\"Pourcentage de données manquantes pour la variable 'obsm': {:.2f}%\".format(percentage_missing))\n"
   ]
  },
  {
   "cell_type": "markdown",
   "metadata": {},
   "source": [
    "#### Variable place"
   ]
  },
  {
   "cell_type": "code",
   "execution_count": null,
   "metadata": {},
   "outputs": [
    {
     "name": "stderr",
     "output_type": "stream",
     "text": [
      "C:\\Users\\campa\\AppData\\Local\\Temp\\ipykernel_25816\\2595020509.py:15: SettingWithCopyWarning: \n",
      "A value is trying to be set on a copy of a slice from a DataFrame.\n",
      "Try using .loc[row_indexer,col_indexer] = value instead\n",
      "\n",
      "See the caveats in the documentation: https://pandas.pydata.org/pandas-docs/stable/user_guide/indexing.html#returning-a-view-versus-a-copy\n",
      "  df['place'] = df['place'].apply(reduce_categories)\n",
      "C:\\Users\\campa\\AppData\\Local\\Temp\\ipykernel_25816\\2595020509.py:19: SettingWithCopyWarning: \n",
      "A value is trying to be set on a copy of a slice from a DataFrame.\n",
      "Try using .loc[row_indexer,col_indexer] = value instead\n",
      "\n",
      "See the caveats in the documentation: https://pandas.pydata.org/pandas-docs/stable/user_guide/indexing.html#returning-a-view-versus-a-copy\n",
      "  df['place'] = df['place'].fillna(mode_value)\n"
     ]
    }
   ],
   "source": [
    "# Définir la fonction de transformation\n",
    "def reduce_categories(x):\n",
    "    if x == 1:\n",
    "        return 1\n",
    "    elif x in [2, 3, 6]:\n",
    "        return 2\n",
    "    elif x in [4, 5, 7, 8, 9]:\n",
    "        return 3\n",
    "    elif x == 10:\n",
    "        return 4\n",
    "    else:\n",
    "        return np.nan\n",
    "\n",
    "# Appliquer la transformation à la colonne 'place'\n",
    "df['place'] = df['place'].apply(reduce_categories)\n",
    "\n",
    "# Remplacer les valeurs manquantes par le mode le plus fréquent\n",
    "mode_value = df['place'].mode()[0]\n",
    "df['place'] = df['place'].fillna(mode_value)"
   ]
  },
  {
   "cell_type": "code",
   "execution_count": null,
   "metadata": {},
   "outputs": [
    {
     "name": "stdout",
     "output_type": "stream",
     "text": [
      "Valeurs uniques et leur décompte pour la variable 'place':\n",
      "1.0: 472439 (75.92%)\n",
      "2.0: 82957 (13.33%)\n",
      "4.0: 38026 (6.11%)\n",
      "3.0: 28884 (4.64%)\n",
      "Nombre de valeurs manquantes pour la variable 'place': 0\n",
      "Pourcentage de données manquantes pour la variable 'place': 0.00%\n"
     ]
    }
   ],
   "source": [
    "locp_counts = df['place'].value_counts()\n",
    "total_count = len(df['place'])\n",
    "print(\"Valeurs uniques et leur décompte pour la variable 'place':\")\n",
    "for value, count in locp_counts.items():\n",
    "    percentage = (count / total_count) * 100\n",
    "    print(f\"{value}: {count} ({percentage:.2f}%)\")\n",
    "    \n",
    "na_count = df['place'].isna().sum()\n",
    "percentage_missing = (na_count / total_count) * 100\n",
    "print(\"Nombre de valeurs manquantes pour la variable 'place':\", na_count)\n",
    "print(\"Pourcentage de données manquantes pour la variable 'place': {:.2f}%\".format(percentage_missing))\n"
   ]
  },
  {
   "cell_type": "markdown",
   "metadata": {},
   "source": [
    "#### Variable int"
   ]
  },
  {
   "cell_type": "markdown",
   "metadata": {},
   "source": [
    "Intersection :  \n",
    "1 – Hors intersection  \n",
    "2 – Intersection en X  \n",
    "3 – Intersection en T  \n",
    "4 – Intersection en Y  \n",
    "5 – Intersection à plus de 4 branches  \n",
    "6 – Giratoire  \n",
    "7 – Place  \n",
    "8 – Passage à niveau  \n",
    "9 – Autre intersection  "
   ]
  },
  {
   "cell_type": "code",
   "execution_count": null,
   "metadata": {},
   "outputs": [
    {
     "name": "stderr",
     "output_type": "stream",
     "text": [
      "C:\\Users\\campa\\AppData\\Local\\Temp\\ipykernel_25816\\1811039585.py:15: SettingWithCopyWarning: \n",
      "A value is trying to be set on a copy of a slice from a DataFrame.\n",
      "Try using .loc[row_indexer,col_indexer] = value instead\n",
      "\n",
      "See the caveats in the documentation: https://pandas.pydata.org/pandas-docs/stable/user_guide/indexing.html#returning-a-view-versus-a-copy\n",
      "  df['int'] = df['int'].apply(reduce_categories)\n",
      "C:\\Users\\campa\\AppData\\Local\\Temp\\ipykernel_25816\\1811039585.py:19: SettingWithCopyWarning: \n",
      "A value is trying to be set on a copy of a slice from a DataFrame.\n",
      "Try using .loc[row_indexer,col_indexer] = value instead\n",
      "\n",
      "See the caveats in the documentation: https://pandas.pydata.org/pandas-docs/stable/user_guide/indexing.html#returning-a-view-versus-a-copy\n",
      "  df['int'] = df['int'].fillna(mode_value)\n"
     ]
    }
   ],
   "source": [
    "# Définir la fonction de transformation\n",
    "def reduce_categories(x):\n",
    "    if x == 1:\n",
    "        return 1\n",
    "    elif x in [2, 3, 4, 5, 8, 9]:\n",
    "        return 2\n",
    "    elif x == 6:\n",
    "        return 3\n",
    "    elif x == 7:\n",
    "        return 4\n",
    "    else:\n",
    "        return np.nan\n",
    "\n",
    "# Appliquer la transformation à la colonne 'int'\n",
    "df['int'] = df['int'].apply(reduce_categories)\n",
    "\n",
    "# Remplacer les valeurs manquantes par le mode le plus fréquent\n",
    "mode_value = df['int'].mode()[0]\n",
    "df['int'] = df['int'].fillna(mode_value)"
   ]
  },
  {
   "cell_type": "code",
   "execution_count": null,
   "metadata": {},
   "outputs": [
    {
     "name": "stdout",
     "output_type": "stream",
     "text": [
      "Valeurs uniques et leur décompte pour la variable 'int':\n",
      "1.0: 1825531 (69.24%)\n",
      "2.0: 715997 (27.16%)\n",
      "3.0: 73977 (2.81%)\n",
      "4.0: 20984 (0.80%)\n",
      "Nombre de valeurs manquantes pour la variable 'int': 0\n",
      "Pourcentage de données manquantes pour la variable 'int': 0.00%\n"
     ]
    }
   ],
   "source": [
    "locp_counts = df['int'].value_counts()\n",
    "total_count = len(df['int'])\n",
    "print(\"Valeurs uniques et leur décompte pour la variable 'int':\")\n",
    "for value, count in locp_counts.items():\n",
    "    percentage = (count / total_count) * 100\n",
    "    print(f\"{value}: {count} ({percentage:.2f}%)\")\n",
    "    \n",
    "na_count = df['int'].isna().sum()\n",
    "percentage_missing = (na_count / total_count) * 100\n",
    "print(\"Nombre de valeurs manquantes pour la variable 'int':\", na_count)\n",
    "print(\"Pourcentage de données manquantes pour la variable 'int': {:.2f}%\".format(percentage_missing))\n"
   ]
  },
  {
   "cell_type": "markdown",
   "metadata": {},
   "source": [
    "#### Variable situ"
   ]
  },
  {
   "cell_type": "code",
   "execution_count": null,
   "metadata": {},
   "outputs": [
    {
     "name": "stderr",
     "output_type": "stream",
     "text": [
      "C:\\Users\\campa\\AppData\\Local\\Temp\\ipykernel_25816\\1701548283.py:14: SettingWithCopyWarning: \n",
      "A value is trying to be set on a copy of a slice from a DataFrame.\n",
      "Try using .loc[row_indexer,col_indexer] = value instead\n",
      "\n",
      "See the caveats in the documentation: https://pandas.pydata.org/pandas-docs/stable/user_guide/indexing.html#returning-a-view-versus-a-copy\n",
      "  df['situ'] = df['situ'].apply(reduce_categories)\n",
      "C:\\Users\\campa\\AppData\\Local\\Temp\\ipykernel_25816\\1701548283.py:18: SettingWithCopyWarning: \n",
      "A value is trying to be set on a copy of a slice from a DataFrame.\n",
      "Try using .loc[row_indexer,col_indexer] = value instead\n",
      "\n",
      "See the caveats in the documentation: https://pandas.pydata.org/pandas-docs/stable/user_guide/indexing.html#returning-a-view-versus-a-copy\n",
      "  df['situ'] = df['situ'].fillna(mode_value)\n"
     ]
    }
   ],
   "source": [
    "def reduce_categories(x):\n",
    "    if x == 1:\n",
    "        return 1\n",
    "    elif x == 2:\n",
    "        return 2\n",
    "    elif x == 3:\n",
    "        return 3\n",
    "    elif x in [2, 5, 6, 8]:\n",
    "        return 4\n",
    "    else:\n",
    "        return np.nan\n",
    "\n",
    "# Appliquer la transformation à la colonne 'situ'\n",
    "df['situ'] = df['situ'].apply(reduce_categories)\n",
    "\n",
    "# Remplacer les valeurs manquantes par le mode le plus fréquent\n",
    "mode_value = df['situ'].mode()[0]\n",
    "df['situ'] = df['situ'].fillna(mode_value)"
   ]
  },
  {
   "cell_type": "code",
   "execution_count": null,
   "metadata": {},
   "outputs": [
    {
     "name": "stdout",
     "output_type": "stream",
     "text": [
      "Valeurs uniques et leur décompte pour la variable 'situ':\n",
      "1.0: 513364 (82.49%)\n",
      "3.0: 75433 (12.12%)\n",
      "4.0: 27289 (4.39%)\n",
      "2.0: 6220 (1.00%)\n",
      "Nombre de valeurs manquantes pour la variable 'situ': 0\n",
      "Pourcentage de données manquantes pour la variable 'situ': 0.00%\n"
     ]
    }
   ],
   "source": [
    "locp_counts = df['situ'].value_counts()\n",
    "total_count = len(df['situ'])\n",
    "print(\"Valeurs uniques et leur décompte pour la variable 'situ':\")\n",
    "for value, count in locp_counts.items():\n",
    "    percentage = (count / total_count) * 100\n",
    "    print(f\"{value}: {count} ({percentage:.2f}%)\")\n",
    "    \n",
    "na_count = df['situ'].isna().sum()\n",
    "percentage_missing = (na_count / total_count) * 100\n",
    "print(\"Nombre de valeurs manquantes pour la variable 'situ':\", na_count)\n",
    "print(\"Pourcentage de données manquantes pour la variable 'situ': {:.2f}%\".format(percentage_missing))\n"
   ]
  },
  {
   "cell_type": "markdown",
   "metadata": {},
   "source": [
    "#### Variable choc"
   ]
  },
  {
   "cell_type": "code",
   "execution_count": null,
   "metadata": {},
   "outputs": [
    {
     "name": "stderr",
     "output_type": "stream",
     "text": [
      "C:\\Users\\campa\\AppData\\Local\\Temp\\ipykernel_25816\\4010373032.py:16: SettingWithCopyWarning: \n",
      "A value is trying to be set on a copy of a slice from a DataFrame.\n",
      "Try using .loc[row_indexer,col_indexer] = value instead\n",
      "\n",
      "See the caveats in the documentation: https://pandas.pydata.org/pandas-docs/stable/user_guide/indexing.html#returning-a-view-versus-a-copy\n",
      "  df['choc'] = df['choc'].apply(reduce_categories)\n",
      "C:\\Users\\campa\\AppData\\Local\\Temp\\ipykernel_25816\\4010373032.py:19: SettingWithCopyWarning: \n",
      "A value is trying to be set on a copy of a slice from a DataFrame.\n",
      "Try using .loc[row_indexer,col_indexer] = value instead\n",
      "\n",
      "See the caveats in the documentation: https://pandas.pydata.org/pandas-docs/stable/user_guide/indexing.html#returning-a-view-versus-a-copy\n",
      "  df['choc'] = df['choc'].fillna(mode_value)\n"
     ]
    }
   ],
   "source": [
    "# Définir la fonction de transformation\n",
    "def reduce_categories(x):\n",
    "    if x == 0:\n",
    "        return 1\n",
    "    elif x in [1, 2, 3]:\n",
    "        return 2\n",
    "    elif x in [4, 5, 6, 7, 8]:\n",
    "        return 3\n",
    "    elif x == 9:\n",
    "        return 4\n",
    "    else:\n",
    "        return np.nan  \n",
    "    \n",
    "    \n",
    "# Appliquer la transformation à la colonne 'choc'\n",
    "df['choc'] = df['choc'].apply(reduce_categories)\n",
    "\n",
    "mode_value = df['choc'].mode()[0]\n",
    "df['choc'] = df['choc'].fillna(mode_value)"
   ]
  },
  {
   "cell_type": "code",
   "execution_count": null,
   "metadata": {},
   "outputs": [
    {
     "name": "stdout",
     "output_type": "stream",
     "text": [
      "Valeurs uniques et leur décompte pour la variable 'choc':\n",
      "2.0: 400031 (64.28%)\n",
      "3.0: 178139 (28.63%)\n",
      "1.0: 33871 (5.44%)\n",
      "4.0: 10265 (1.65%)\n",
      "Nombre de valeurs manquantes pour la variable 'choc': 0\n",
      "Pourcentage de données manquantes pour la variable 'choc': 0.00%\n"
     ]
    }
   ],
   "source": [
    "locp_counts = df['choc'].value_counts()\n",
    "total_count = len(df['choc'])\n",
    "print(\"Valeurs uniques et leur décompte pour la variable 'choc':\")\n",
    "for value, count in locp_counts.items():\n",
    "    percentage = (count / total_count) * 100\n",
    "    print(f\"{value}: {count} ({percentage:.2f}%)\")\n",
    "    \n",
    "na_count = df['choc'].isna().sum()\n",
    "percentage_missing = (na_count / total_count) * 100\n",
    "print(\"Nombre de valeurs manquantes pour la variable 'choc':\", na_count)\n",
    "print(\"Pourcentage de données manquantes pour la variable 'choc': {:.2f}%\".format(percentage_missing))\n"
   ]
  },
  {
   "cell_type": "markdown",
   "metadata": {},
   "source": [
    "#### Variable atm"
   ]
  },
  {
   "cell_type": "code",
   "execution_count": null,
   "metadata": {},
   "outputs": [
    {
     "name": "stderr",
     "output_type": "stream",
     "text": [
      "C:\\Users\\campa\\AppData\\Local\\Temp\\ipykernel_25816\\1340906969.py:14: SettingWithCopyWarning: \n",
      "A value is trying to be set on a copy of a slice from a DataFrame.\n",
      "Try using .loc[row_indexer,col_indexer] = value instead\n",
      "\n",
      "See the caveats in the documentation: https://pandas.pydata.org/pandas-docs/stable/user_guide/indexing.html#returning-a-view-versus-a-copy\n",
      "  df['atm'] = df['atm'].apply(reduce_categories)\n",
      "C:\\Users\\campa\\AppData\\Local\\Temp\\ipykernel_25816\\1340906969.py:18: SettingWithCopyWarning: \n",
      "A value is trying to be set on a copy of a slice from a DataFrame.\n",
      "Try using .loc[row_indexer,col_indexer] = value instead\n",
      "\n",
      "See the caveats in the documentation: https://pandas.pydata.org/pandas-docs/stable/user_guide/indexing.html#returning-a-view-versus-a-copy\n",
      "  df['atm'] = df['atm'].fillna(mode_value)\n"
     ]
    }
   ],
   "source": [
    "def reduce_categories(x):\n",
    "    if x in [1, 8, 9]:\n",
    "        return 1\n",
    "    elif x in [2, 3, 4]:\n",
    "        return 2\n",
    "    elif x in [5, 7]:\n",
    "        return 3\n",
    "    elif x == 6:\n",
    "        return 4\n",
    "    else:\n",
    "        return np.nan\n",
    "    \n",
    "# Appliquer la transformation à la colonne 'atm'\n",
    "df['atm'] = df['atm'].apply(reduce_categories)\n",
    "\n",
    "\n",
    "mode_value = df['atm'].mode()[0]\n",
    "df['atm'] = df['atm'].fillna(mode_value)"
   ]
  },
  {
   "cell_type": "code",
   "execution_count": null,
   "metadata": {},
   "outputs": [
    {
     "name": "stdout",
     "output_type": "stream",
     "text": [
      "Valeurs uniques et leur décompte pour la variable 'atm':\n",
      "1.0: 522756 (84.00%)\n",
      "2.0: 82187 (13.21%)\n",
      "3.0: 15826 (2.54%)\n",
      "4.0: 1537 (0.25%)\n",
      "Nombre de valeurs manquantes pour la variable 'atm': 0\n",
      "Pourcentage de données manquantes pour la variable 'atm': 0.00%\n"
     ]
    }
   ],
   "source": [
    "locp_counts = df['atm'].value_counts()\n",
    "total_count = len(df['atm'])\n",
    "print(\"Valeurs uniques et leur décompte pour la variable 'atm':\")\n",
    "for value, count in locp_counts.items():\n",
    "    percentage = (count / total_count) * 100\n",
    "    print(f\"{value}: {count} ({percentage:.2f}%)\")\n",
    "    \n",
    "na_count = df['atm'].isna().sum()\n",
    "percentage_missing = (na_count / total_count) * 100\n",
    "print(\"Nombre de valeurs manquantes pour la variable 'atm':\", na_count)\n",
    "print(\"Pourcentage de données manquantes pour la variable 'atm': {:.2f}%\".format(percentage_missing))\n"
   ]
  },
  {
   "cell_type": "markdown",
   "metadata": {},
   "source": [
    "#### Variable catr"
   ]
  },
  {
   "cell_type": "code",
   "execution_count": null,
   "metadata": {},
   "outputs": [
    {
     "name": "stderr",
     "output_type": "stream",
     "text": [
      "C:\\Users\\campa\\AppData\\Local\\Temp\\ipykernel_25816\\284088075.py:16: SettingWithCopyWarning: \n",
      "A value is trying to be set on a copy of a slice from a DataFrame.\n",
      "Try using .loc[row_indexer,col_indexer] = value instead\n",
      "\n",
      "See the caveats in the documentation: https://pandas.pydata.org/pandas-docs/stable/user_guide/indexing.html#returning-a-view-versus-a-copy\n",
      "  df['catr'] = df['catr'].apply(reduce_categories)\n",
      "C:\\Users\\campa\\AppData\\Local\\Temp\\ipykernel_25816\\284088075.py:20: SettingWithCopyWarning: \n",
      "A value is trying to be set on a copy of a slice from a DataFrame.\n",
      "Try using .loc[row_indexer,col_indexer] = value instead\n",
      "\n",
      "See the caveats in the documentation: https://pandas.pydata.org/pandas-docs/stable/user_guide/indexing.html#returning-a-view-versus-a-copy\n",
      "  df['catr'] = df['catr'].fillna(mode_value)\n"
     ]
    }
   ],
   "source": [
    "def reduce_categories(x):\n",
    "    if x == 1:\n",
    "        return 1\n",
    "    elif x == 2:\n",
    "        return 2\n",
    "    elif x == 3:\n",
    "        return 3\n",
    "    elif x == 4:\n",
    "        return 4\n",
    "    elif x in [5, 6, 7, 9]:\n",
    "        return 5\n",
    "    else:\n",
    "        return np.nan\n",
    "    \n",
    "# Appliquer la transformation à la colonne 'catr'\n",
    "df['catr'] = df['catr'].apply(reduce_categories)\n",
    "\n",
    "\n",
    "mode_value = df['catr'].mode()[0]\n",
    "df['catr'] = df['catr'].fillna(mode_value)"
   ]
  },
  {
   "cell_type": "code",
   "execution_count": null,
   "metadata": {},
   "outputs": [
    {
     "name": "stdout",
     "output_type": "stream",
     "text": [
      "Valeurs uniques et leur décompte pour la variable 'catr':\n",
      "4.0: 1219256 (46.25%)\n",
      "3.0: 874037 (33.15%)\n",
      "1.0: 243531 (9.24%)\n",
      "2.0: 222505 (8.44%)\n",
      "5.0: 77160 (2.93%)\n",
      "Nombre de valeurs manquantes pour la variable 'catr': 0\n",
      "Pourcentage de données manquantes pour la variable 'catr': 0.00%\n"
     ]
    }
   ],
   "source": [
    "locp_counts = df['catr'].value_counts()\n",
    "total_count = len(df['catr'])\n",
    "print(\"Valeurs uniques et leur décompte pour la variable 'catr':\")\n",
    "for value, count in locp_counts.items():\n",
    "    percentage = (count / total_count) * 100\n",
    "    print(f\"{value}: {count} ({percentage:.2f}%)\")\n",
    "    \n",
    "na_count = df['catr'].isna().sum()\n",
    "percentage_missing = (na_count / total_count) * 100\n",
    "print(\"Nombre de valeurs manquantes pour la variable 'catr':\", na_count)\n",
    "print(\"Pourcentage de données manquantes pour la variable 'catr': {:.2f}%\".format(percentage_missing))\n"
   ]
  },
  {
   "cell_type": "markdown",
   "metadata": {},
   "source": [
    "#### Variable surf"
   ]
  },
  {
   "cell_type": "code",
   "execution_count": null,
   "metadata": {},
   "outputs": [
    {
     "name": "stderr",
     "output_type": "stream",
     "text": [
      "C:\\Users\\campa\\AppData\\Local\\Temp\\ipykernel_25816\\3108241918.py:3: SettingWithCopyWarning: \n",
      "A value is trying to be set on a copy of a slice from a DataFrame.\n",
      "Try using .loc[row_indexer,col_indexer] = value instead\n",
      "\n",
      "See the caveats in the documentation: https://pandas.pydata.org/pandas-docs/stable/user_guide/indexing.html#returning-a-view-versus-a-copy\n",
      "  df['surf'] = df['surf'].fillna(mode_value)\n",
      "C:\\Users\\campa\\AppData\\Local\\Temp\\ipykernel_25816\\3108241918.py:17: SettingWithCopyWarning: \n",
      "A value is trying to be set on a copy of a slice from a DataFrame.\n",
      "Try using .loc[row_indexer,col_indexer] = value instead\n",
      "\n",
      "See the caveats in the documentation: https://pandas.pydata.org/pandas-docs/stable/user_guide/indexing.html#returning-a-view-versus-a-copy\n",
      "  df['surf'] = df['surf'].apply(reduce_categories)\n"
     ]
    }
   ],
   "source": [
    "# Remplacer les valeurs manquantes par le mode le plus fréquent\n",
    "mode_value = df['surf'].mode()[0]\n",
    "df['surf'] = df['surf'].fillna(mode_value)\n",
    "\n",
    "# Définir la fonction de transformation\n",
    "def reduce_categories(x):\n",
    "    if x == 1:\n",
    "        return 1\n",
    "    elif x in [2, 3, 4, 5, 6, 7, 8]:\n",
    "        return 2\n",
    "    elif x == 9:\n",
    "        return 3\n",
    "    else:\n",
    "        return mode_value\n",
    "\n",
    "# Appliquer la transformation à la colonne 'surf'\n",
    "df['surf'] = df['surf'].apply(reduce_categories)"
   ]
  },
  {
   "cell_type": "code",
   "execution_count": null,
   "metadata": {},
   "outputs": [
    {
     "name": "stdout",
     "output_type": "stream",
     "text": [
      "Valeurs uniques et leur décompte pour la variable 'surf':\n",
      "1.0: 2139218 (81.14%)\n",
      "2.0: 485427 (18.41%)\n",
      "3.0: 11844 (0.45%)\n",
      "Nombre de valeurs manquantes pour la variable 'surf': 0\n",
      "Pourcentage de données manquantes pour la variable 'surf': 0.00%\n"
     ]
    }
   ],
   "source": [
    "locp_counts = df['surf'].value_counts()\n",
    "total_count = len(df['surf'])\n",
    "print(\"Valeurs uniques et leur décompte pour la variable 'surf':\")\n",
    "for value, count in locp_counts.items():\n",
    "    percentage = (count / total_count) * 100\n",
    "    print(f\"{value}: {count} ({percentage:.2f}%)\")\n",
    "    \n",
    "na_count = df['surf'].isna().sum()\n",
    "percentage_missing = (na_count / total_count) * 100\n",
    "print(\"Nombre de valeurs manquantes pour la variable 'surf':\", na_count)\n",
    "print(\"Pourcentage de données manquantes pour la variable 'surf': {:.2f}%\".format(percentage_missing))\n"
   ]
  },
  {
   "cell_type": "markdown",
   "metadata": {},
   "source": [
    "### 4.5 SimpleImputer - Imputation"
   ]
  },
  {
   "cell_type": "code",
   "execution_count": null,
   "metadata": {},
   "outputs": [
    {
     "name": "stdout",
     "output_type": "stream",
     "text": [
      "  place catu grav sexe an_nais catv obsm choc manv    an mois jour   hrmn  \\\n",
      "0   1.0    1    4  1.0  1976.0  3.0  2.0  1.0  1.0  2005    1   12  19:00   \n",
      "1   1.0    1    3  2.0  1968.0  3.0  2.0  8.0  1.0  2005    1   12  19:00   \n",
      "2   2.0    2    1  1.0  1964.0  3.0  2.0  8.0  1.0  2005    1   12  19:00   \n",
      "3   4.0    2    1  1.0  2004.0  3.0  2.0  8.0  1.0  2005    1   12  19:00   \n",
      "4   5.0    2    1  1.0  1998.0  3.0  2.0  8.0  1.0  2005    1   12  19:00   \n",
      "\n",
      "   lum agg  int  atm  col catr circ prof plan surf infra situ  \n",
      "0  3.0   2  1.0  1.0  3.0  3.0  2.0  1.0  1.0  1.0   0.0  1.0  \n",
      "1  3.0   2  1.0  1.0  3.0  3.0  2.0  1.0  1.0  1.0   0.0  1.0  \n",
      "2  3.0   2  1.0  1.0  3.0  3.0  2.0  1.0  1.0  1.0   0.0  1.0  \n",
      "3  3.0   2  1.0  1.0  3.0  3.0  2.0  1.0  1.0  1.0   0.0  1.0  \n",
      "4  3.0   2  1.0  1.0  3.0  3.0  2.0  1.0  1.0  1.0   0.0  1.0  \n"
     ]
    }
   ],
   "source": [
    "# Créer un imputer avec la stratégie du mode\n",
    "imputer = SimpleImputer(strategy='most_frequent')\n",
    "\n",
    "# Remplacer les valeurs '-1' par le mode le plus fréquent dans chaque colonne\n",
    "df = pd.DataFrame(imputer.fit_transform(df.replace(-1, np.nan)), columns=df.columns)\n",
    "\n",
    "# Afficher le DataFrame avec les valeurs '-1' remplacées par le mode le plus fréquent\n",
    "print(df.head())"
   ]
  },
  {
   "cell_type": "code",
   "execution_count": null,
   "metadata": {},
   "outputs": [
    {
     "name": "stdout",
     "output_type": "stream",
     "text": [
      "         Missing Count  Pourcentage de valeurs manquantes\n",
      "place                0                                0.0\n",
      "lum                  0                                0.0\n",
      "infra                0                                0.0\n",
      "surf                 0                                0.0\n",
      "plan                 0                                0.0\n",
      "prof                 0                                0.0\n",
      "circ                 0                                0.0\n",
      "catr                 0                                0.0\n",
      "col                  0                                0.0\n",
      "atm                  0                                0.0\n",
      "int                  0                                0.0\n",
      "agg                  0                                0.0\n",
      "hrmn                 0                                0.0\n",
      "catu                 0                                0.0\n",
      "jour                 0                                0.0\n",
      "mois                 0                                0.0\n",
      "an                   0                                0.0\n",
      "manv                 0                                0.0\n",
      "choc                 0                                0.0\n",
      "obsm                 0                                0.0\n",
      "catv                 0                                0.0\n",
      "an_nais              0                                0.0\n",
      "sexe                 0                                0.0\n",
      "grav                 0                                0.0\n",
      "situ                 0                                0.0\n"
     ]
    }
   ],
   "source": [
    "# Marquer les valeurs manquantes dans le DataFrame\n",
    "missing_values = df.isna()\n",
    "\n",
    "# Compter le nombre de valeurs manquantes dans chaque colonne\n",
    "missing_count = missing_values.sum()\n",
    "\n",
    "# Calculer le pourcentage de valeurs manquantes dans chaque colonne\n",
    "missing_percentage = (missing_count / len(df)) * 100\n",
    "\n",
    "# Créer un DataFrame pour afficher les résultats\n",
    "missing_info = pd.DataFrame({'Missing Count': missing_count, 'Pourcentage de valeurs manquantes': missing_percentage})\n",
    "\n",
    "# Trier les données dans l'ordre décroissant en fonction du nombre de valeurs manquantes\n",
    "sorted_missing_info_desc = missing_info.sort_values(by='Missing Count', ascending=False)\n",
    "\n",
    "# Afficher les résultats triés\n",
    "print(sorted_missing_info_desc)"
   ]
  },
  {
   "cell_type": "code",
   "execution_count": null,
   "metadata": {},
   "outputs": [
    {
     "name": "stdout",
     "output_type": "stream",
     "text": [
      "         Missing Count  Pourcentage de valeurs manquantes\n",
      "place                0                                0.0\n",
      "lum                  0                                0.0\n",
      "infra                0                                0.0\n",
      "surf                 0                                0.0\n",
      "plan                 0                                0.0\n",
      "prof                 0                                0.0\n",
      "circ                 0                                0.0\n",
      "catr                 0                                0.0\n",
      "col                  0                                0.0\n",
      "atm                  0                                0.0\n",
      "int                  0                                0.0\n",
      "agg                  0                                0.0\n",
      "hrmn                 0                                0.0\n",
      "catu                 0                                0.0\n",
      "jour                 0                                0.0\n",
      "mois                 0                                0.0\n",
      "an                   0                                0.0\n",
      "manv                 0                                0.0\n",
      "choc                 0                                0.0\n",
      "obsm                 0                                0.0\n",
      "catv                 0                                0.0\n",
      "an_nais              0                                0.0\n",
      "sexe                 0                                0.0\n",
      "grav                 0                                0.0\n",
      "situ                 0                                0.0\n"
     ]
    }
   ],
   "source": [
    "# Marquer les valeurs égales à -1 comme manquantes dans le DataFrame\n",
    "missing_values = df.replace(-1, np.nan).isna()\n",
    "\n",
    "# Compter le nombre de valeurs manquantes dans chaque colonne\n",
    "missing_count = missing_values.sum()\n",
    "\n",
    "# Calculer le pourcentage de valeurs manquantes dans chaque colonne\n",
    "missing_percentage = (missing_count / len(df)) * 100\n",
    "\n",
    "# Créer un DataFrame pour afficher les résultats\n",
    "missing_info = pd.DataFrame({'Missing Count': missing_count, 'Pourcentage de valeurs manquantes': missing_percentage})\n",
    "\n",
    "# Trier les données dans l'ordre décroissant en fonction du nombre de valeurs manquantes\n",
    "sorted_missing_info_desc = missing_info.sort_values(by='Missing Count', ascending=False)\n",
    "\n",
    "# Afficher les résultats triés\n",
    "print(sorted_missing_info_desc)\n"
   ]
  },
  {
   "cell_type": "code",
   "execution_count": null,
   "metadata": {},
   "outputs": [
    {
     "data": {
      "text/plain": [
       "False    1151329\n",
       "True        2200\n",
       "Name: count, dtype: int64"
      ]
     },
     "metadata": {},
     "output_type": "display_data"
    }
   ],
   "source": [
    "df.duplicated().value_counts()"
   ]
  },
  {
   "cell_type": "code",
   "execution_count": null,
   "metadata": {},
   "outputs": [],
   "source": [
    "df = df.drop_duplicates()\n",
    "df = df.reset_index(drop=True)"
   ]
  },
  {
   "cell_type": "code",
   "execution_count": null,
   "metadata": {},
   "outputs": [
    {
     "data": {
      "text/plain": [
       "False    2630673\n",
       "Name: count, dtype: int64"
      ]
     },
     "metadata": {},
     "output_type": "display_data"
    }
   ],
   "source": [
    "df.duplicated().value_counts()"
   ]
  },
  {
   "cell_type": "code",
   "execution_count": null,
   "metadata": {},
   "outputs": [],
   "source": [
    "df_save2 = df"
   ]
  },
  {
   "cell_type": "markdown",
   "metadata": {},
   "source": [
    "### 4.6 Création de variables"
   ]
  },
  {
   "cell_type": "markdown",
   "metadata": {},
   "source": [
    "#### Création de la variable hour_cat"
   ]
  },
  {
   "cell_type": "code",
   "execution_count": null,
   "metadata": {},
   "outputs": [
    {
     "data": {
      "text/plain": [
       "False    2630673\n",
       "Name: count, dtype: int64"
      ]
     },
     "metadata": {},
     "output_type": "display_data"
    }
   ],
   "source": [
    "df.duplicated().value_counts()"
   ]
  },
  {
   "cell_type": "markdown",
   "metadata": {},
   "source": [
    "##### Création de hour_cat"
   ]
  },
  {
   "cell_type": "code",
   "execution_count": null,
   "metadata": {},
   "outputs": [],
   "source": [
    "# Créer une variable catégorielle découpant les heures par tranche d'une heure\n",
    "df['hour_cat'] = pd.to_datetime(df['hrmn'], format='%H:%M').dt.hour"
   ]
  },
  {
   "cell_type": "code",
   "execution_count": null,
   "metadata": {},
   "outputs": [
    {
     "name": "stdout",
     "output_type": "stream",
     "text": [
      "['19:00' '16:00' '18:45' ... '02:27' '03:07' '00:00']\n",
      "[19 16 18 14 15 21 17 20  2  6  8  7 11  9 10  0 22  5 23 12 13  3  4  1]\n"
     ]
    }
   ],
   "source": [
    "print(df['hrmn'].unique())\n",
    "print(df['hour_cat'].unique())"
   ]
  },
  {
   "cell_type": "code",
   "execution_count": null,
   "metadata": {},
   "outputs": [
    {
     "data": {
      "text/plain": [
       "False    620973\n",
       "True       1333\n",
       "Name: count, dtype: int64"
      ]
     },
     "metadata": {},
     "output_type": "display_data"
    }
   ],
   "source": [
    "df.duplicated().value_counts()"
   ]
  },
  {
   "cell_type": "code",
   "execution_count": null,
   "metadata": {},
   "outputs": [],
   "source": [
    "mode_value = df['hour_cat'].mode()[0]\n",
    "def reduce_categories(x):\n",
    "    if x in range(8, 17):\n",
    "        return 1\n",
    "    elif (x in range(6, 9)) or (x in range(16, 19)):\n",
    "        return 2\n",
    "    elif (x in range(21, 25)) or (x in range(1, 6)):\n",
    "        return 3\n",
    "    else:\n",
    "        return mode_value\n",
    "\n",
    "# Appliquer la transformation à la colonne 'hour_cat'\n",
    "df['hour_cat'] = df['hour_cat'].apply(reduce_categories)"
   ]
  },
  {
   "cell_type": "markdown",
   "metadata": {},
   "source": [
    "##### Visualisation de grav en fonction de hour_cat"
   ]
  },
  {
   "cell_type": "code",
   "execution_count": null,
   "metadata": {},
   "outputs": [
    {
     "data": {
      "image/png": "[encoded data removed]",
      "text/plain": [
       "<Figure size 1500x600 with 1 Axes>"
      ]
     },
     "metadata": {},
     "output_type": "display_data"
    }
   ],
   "source": [
    "# Créer un DataFrame pour les moyennes des accidents par classe de gravité et par heure\n",
    "mean_accidents_df = df.groupby(['hour_cat', 'grav']).size().unstack()\n",
    "\n",
    "# Réorganiser les colonnes pour que les classes de gravité soient dans l'ordre\n",
    "mean_accidents_df = mean_accidents_df[[1, 2, 3, 4]]\n",
    "\n",
    "# Définir l'ordre des labels pour 'grav'\n",
    "grav_labels = ['Indemne', 'Tué', 'Blessé hospitalisé', 'Blessé léger']\n",
    "\n",
    "# Créer le graphique avec Seaborn\n",
    "plt.figure(figsize=(15, 6))\n",
    "sns.lineplot(data=mean_accidents_df, dashes=False, markers=True)\n",
    "\n",
    "# Créer un scatterplot pour les points de données\n",
    "sns.scatterplot(x=mean_accidents_df.index, y=mean_accidents_df[1], color='blue', label='Indemne', legend=False)\n",
    "sns.scatterplot(x=mean_accidents_df.index, y=mean_accidents_df[2], color='orange', label='Tué', legend=False)\n",
    "sns.scatterplot(x=mean_accidents_df.index, y=mean_accidents_df[3], color='green', label='Blessé hospitalisé', legend=False)\n",
    "sns.scatterplot(x=mean_accidents_df.index, y=mean_accidents_df[4], color='red', label='Blessé léger', legend=False)\n",
    "\n",
    "# Définir les étiquettes des axes x avec un pas de temps de 2\n",
    "plt.xticks(ticks=range(0, 24, 2), labels=[f\"{hour}:00\" for hour in range(0, 24, 2)])\n",
    "\n",
    "# Ajouter un titre et des étiquettes aux axes\n",
    "plt.xlabel('Heure de la journée')\n",
    "plt.ylabel('Nombre moyen d\\'accidents')\n",
    "plt.title('Nombre moyen d\\'accidents par classe de gravité au cours de la journée')\n",
    "\n",
    "# Afficher la légende personnalisée\n",
    "handles, labels = plt.gca().get_legend_handles_labels()\n",
    "custom_labels = {str(label): grav_labels[label - 1] for label in mean_accidents_df.columns}\n",
    "plt.legend(handles, custom_labels.values(), title='Gravité')\n",
    "\n",
    "# Afficher le graphique\n",
    "plt.show()"
   ]
  },
  {
   "cell_type": "markdown",
   "metadata": {},
   "source": [
    "#### Creation de age_category"
   ]
  },
  {
   "cell_type": "markdown",
   "metadata": {},
   "source": [
    "##### Création de age_category"
   ]
  },
  {
   "cell_type": "code",
   "execution_count": null,
   "metadata": {},
   "outputs": [
    {
     "name": "stdout",
     "output_type": "stream",
     "text": [
      "  an_nais    an age_usag\n",
      "0  1976.0  2005     29.0\n",
      "1  1968.0  2005     37.0\n",
      "2  1964.0  2005     41.0\n",
      "3  2004.0  2005      1.0\n",
      "4  1998.0  2005      7.0\n",
      "  age_usag  age_category\n",
      "0     29.0  Jeune adulte\n",
      "1     37.0        Adulte\n",
      "2     41.0        Adulte\n",
      "3      1.0        Enfant\n",
      "4      7.0        Enfant\n"
     ]
    }
   ],
   "source": [
    "# Calculer l'âge de l'usager au moment de l'accident en soustrayant l'année de naissance de l'année de l'accident\n",
    "df['age_usag'] = df['an'] - df['an_nais']\n",
    "\n",
    "# Afficher les premières lignes du DataFrame pour vérifier\n",
    "print(df[['an_nais', 'an', 'age_usag']].head())\n",
    "\n",
    "\n",
    "class AgeCat(BaseEstimator, TransformerMixin):\n",
    "    \n",
    "    def __init__(self):\n",
    "        return None\n",
    "    def fit(self, X, y = None):\n",
    "        return self\n",
    "    def transform(self, X):\n",
    "        return pd.DataFrame(pd.cut(X['age_usag'], bins = [0, 12, 18, 30, 58, np.max(df.age_usag)], labels=['Enfant','Adolescent',\n",
    "                                                                                                    'Jeune adulte','Adulte',\n",
    "                                                                                                    'Senior']))\n",
    "\n",
    "\n",
    "# Créer un transformateur personnalisé pour binariser l'âge des usagers\n",
    "age_categorized = AgeCat()\n",
    "\n",
    "# Appliquer le transformateur sur les données\n",
    "df['age_category'] = age_categorized.fit_transform(df[['age_usag']])\n",
    "\n",
    "# Afficher les premières lignes du DataFrame avec la nouvelle variable\n",
    "print(df[['age_usag', 'age_category']].head())\n"
   ]
  },
  {
   "cell_type": "code",
   "execution_count": null,
   "metadata": {},
   "outputs": [
    {
     "data": {
      "text/plain": [
       "False    1151329\n",
       "Name: count, dtype: int64"
      ]
     },
     "metadata": {},
     "output_type": "display_data"
    }
   ],
   "source": [
    "df.duplicated().value_counts()"
   ]
  },
  {
   "cell_type": "markdown",
   "metadata": {},
   "source": [
    "##### Graphique Age_cat"
   ]
  },
  {
   "cell_type": "code",
   "execution_count": null,
   "metadata": {},
   "outputs": [
    {
     "name": "stderr",
     "output_type": "stream",
     "text": [
      "C:\\Users\\campa\\AppData\\Local\\Temp\\ipykernel_7576\\3666223131.py:11: FutureWarning: The default of observed=False is deprecated and will be changed to True in a future version of pandas. Pass observed=False to retain current behavior or observed=True to adopt the future default and silence this warning.\n",
      "  agg_df = df.groupby(['age_category', 'grav_description']).size().reset_index(name='count')\n"
     ]
    },
    {
     "data": {
      "image/png": "[encoded data removed]",
      "text/plain": [
       "<Figure size 1000x600 with 1 Axes>"
      ]
     },
     "metadata": {},
     "output_type": "display_data"
    }
   ],
   "source": [
    "# Mapper les valeurs de gravité aux descriptions correspondantes\n",
    "grav_mapping = {1: 'Indemne', 2: 'Tué', 3: 'Blessé hospitalisé', 4: 'Blessé léger'}\n",
    "\n",
    "# Remplacer les valeurs de 'grav' par les descriptions correspondantes\n",
    "df['grav_description'] = df['grav'].map(grav_mapping)\n",
    "\n",
    "# Regrouper les données par 'age_category' et 'grav' et compter le nombre d'observations\n",
    "agg_df = df.groupby(['age_category', 'grav_description']).size().reset_index(name='count')\n",
    "\n",
    "# Créer le graphique avec Seaborn\n",
    "plt.figure(figsize=(10, 6))\n",
    "sns.lineplot(data=agg_df, x='age_category', y='count', hue='grav_description', marker='o')\n",
    "\n",
    "# Définir les couleurs pour chaque classe de gravité\n",
    "palette = {'Indemne': 'green', 'Tué': 'red', 'Blessé léger': 'blue', 'Blessé hospitalisé': 'orange'}\n",
    "\n",
    "# Créer un scatterplot pour les points de données avec la palette spécifiée\n",
    "sns.scatterplot(x=agg_df['age_category'], y=agg_df['count'], hue=agg_df['grav_description'], palette=palette, legend=False)\n",
    "\n",
    "# Ajouter un titre et des étiquettes aux axes\n",
    "plt.xlabel('Age des usagers')\n",
    "plt.ylabel('Nombre d\\'observations')\n",
    "plt.title('Nombre d\\'observations par classe de gravité en fonction de l\\'age des usagers')\n",
    "\n",
    "# Afficher la légende\n",
    "plt.legend(title='Gravité')\n",
    "\n",
    "# Afficher le graphique\n",
    "plt.show()\n"
   ]
  },
  {
   "cell_type": "markdown",
   "metadata": {},
   "source": [
    "#### Création de la variable jour_semaine"
   ]
  },
  {
   "cell_type": "markdown",
   "metadata": {},
   "source": [
    "##### Création de jour_sem"
   ]
  },
  {
   "cell_type": "code",
   "execution_count": null,
   "metadata": {},
   "outputs": [
    {
     "data": {
      "text/plain": [
       "array(['Mercredi', 'Vendredi', 'Mardi', 'Lundi', 'Samedi', 'Dimanche',\n",
       "       'Jeudi'], dtype=object)"
      ]
     },
     "metadata": {},
     "output_type": "display_data"
    }
   ],
   "source": [
    "def jour_de_la_semaine(date):\n",
    "    jours = [\"Lundi\", \"Mardi\", \"Mercredi\", \"Jeudi\", \"Vendredi\", \"Samedi\", \"Dimanche\"]\n",
    "    return jours[date.weekday()]\n",
    "\n",
    "df[\"hrmn\"] = df[\"hrmn\"].apply(lambda x: str(x).zfill(4))\n",
    "\n",
    "df[\"datetime_str\"] = (\n",
    "    df[\"an\"].astype(str)\n",
    "    + \"-\"\n",
    "    + df[\"mois\"].astype(str)\n",
    "    + \"-\"\n",
    "    + df[\"jour\"].astype(str)\n",
    "    + \" \"\n",
    "    + df[\"hrmn\"]\n",
    ")\n",
    "df[\"datetime\"] = pd.to_datetime(df[\"datetime_str\"], format=\"%Y-%m-%d %H:%M\")\n",
    "df[\"jour_sem\"] = df[\"datetime\"].apply(jour_de_la_semaine)\n",
    "# + clear cols temp\n",
    "df[\"jour_sem\"].unique()"
   ]
  },
  {
   "cell_type": "code",
   "execution_count": null,
   "metadata": {},
   "outputs": [
    {
     "data": {
      "text/plain": [
       "False    2630673\n",
       "Name: count, dtype: int64"
      ]
     },
     "metadata": {},
     "output_type": "display_data"
    }
   ],
   "source": [
    "df.duplicated().value_counts()"
   ]
  },
  {
   "cell_type": "markdown",
   "metadata": {},
   "source": [
    "##### Visualisation de gravité en fonction de jour_sem"
   ]
  },
  {
   "cell_type": "code",
   "execution_count": null,
   "metadata": {},
   "outputs": [
    {
     "data": {
      "image/png": "[encoded data removed]",
      "text/plain": [
       "<Figure size 1500x600 with 1 Axes>"
      ]
     },
     "metadata": {},
     "output_type": "display_data"
    }
   ],
   "source": [
    "# Créer un DataFrame pour les moyennes des accidents par classe de gravité et par jour de la semaine\n",
    "mean_accidents_df = df.groupby(['jour_sem', 'grav']).size().unstack()\n",
    "\n",
    "# Définir l'ordre des labels pour 'grav'\n",
    "grav_labels = ['Indemne', 'Tué', 'Blessé hospitalisé', 'Blessé léger']\n",
    "\n",
    "# Créer le graphique avec Seaborn\n",
    "plt.figure(figsize=(15, 6))\n",
    "sns.lineplot(data=mean_accidents_df, dashes=False, marker='o')\n",
    "\n",
    "# Définir les étiquettes des axes x avec les jours de la semaine\n",
    "jour_semaine_labels = ['Lundi', 'Mardi', 'Mercredi', 'Jeudi', 'Vendredi', 'Samedi', 'Dimanche']\n",
    "plt.xticks(ticks=range(7), labels=jour_semaine_labels)\n",
    "\n",
    "# Ajouter un titre et des étiquettes aux axes\n",
    "plt.xlabel('Jour de la semaine')\n",
    "plt.ylabel('Nombre moyen d\\'accidents')\n",
    "plt.title('Nombre moyen d\\'accidents par classe de gravité au cours de la semaine')\n",
    "plt.legend()\n",
    "\n",
    "# Afficher le graphique\n",
    "plt.show()\n"
   ]
  },
  {
   "cell_type": "code",
   "execution_count": null,
   "metadata": {},
   "outputs": [
    {
     "data": {
      "image/png": "[encoded data removed]",
      "text/plain": [
       "<Figure size 1500x600 with 1 Axes>"
      ]
     },
     "metadata": {},
     "output_type": "display_data"
    }
   ],
   "source": [
    "# Calculer la proportion moyenne de chaque classe de 'grav' au cours de la semaine\n",
    "prop_accidents_df = mean_accidents_df.div(mean_accidents_df.sum(axis=1), axis=0)\n",
    "\n",
    "# Créer le graphique avec Seaborn\n",
    "plt.figure(figsize=(15, 6))\n",
    "sns.lineplot(data=prop_accidents_df, dashes=False, markers=True)\n",
    "\n",
    "# Définir les étiquettes des axes x avec les jours de la semaine\n",
    "jour_semaine_labels = ['Lundi', 'Mardi', 'Mercredi', 'Jeudi', 'Vendredi', 'Samedi', 'Dimanche']\n",
    "plt.xticks(ticks=range(7), labels=jour_semaine_labels)\n",
    "\n",
    "# Ajouter un titre et des étiquettes aux axes\n",
    "plt.xlabel('Jour de la semaine')\n",
    "plt.ylabel('Proportion moyenne d\\'accidents')\n",
    "plt.title('Proportion moyenne de chaque classe de gravité au cours de la semaine')\n",
    "\n",
    "# Afficher la légende personnalisée\n",
    "handles, labels = plt.gca().get_legend_handles_labels()\n",
    "custom_labels = {str(label): grav_labels[label - 1] for label in prop_accidents_df.columns}\n",
    "plt.legend(handles, custom_labels.values(), title='Gravité')\n",
    "\n",
    "# Afficher le graphique\n",
    "plt.show()\n"
   ]
  },
  {
   "cell_type": "markdown",
   "metadata": {},
   "source": [
    "### 4.7 Encoder age_cat et jour_sem"
   ]
  },
  {
   "cell_type": "code",
   "execution_count": null,
   "metadata": {},
   "outputs": [],
   "source": [
    "# Créer une instance de LabelEncoder pour 'age_category'\n",
    "label_encoder_age_category = LabelEncoder()\n",
    "df['age_category_encoded'] = label_encoder_age_category.fit_transform(df['age_category'])\n",
    "\n",
    "# Créer une instance de LabelEncoder pour 'jour_sem'\n",
    "label_encoder_jour_sem = LabelEncoder()\n",
    "df['jour_sem_encoded'] = label_encoder_jour_sem.fit_transform(df['jour_sem'])"
   ]
  },
  {
   "cell_type": "code",
   "execution_count": null,
   "metadata": {},
   "outputs": [],
   "source": [
    "# Créer une instance de LabelEncoder pour 'age_category'\n",
    "label_encoder_age_category = LabelEncoder()\n",
    "df['age_category_encoded'] = label_encoder_age_category.fit_transform(df['age_category'])"
   ]
  },
  {
   "cell_type": "code",
   "execution_count": null,
   "metadata": {},
   "outputs": [
    {
     "data": {
      "text/plain": [
       "False    1151329\n",
       "Name: count, dtype: int64"
      ]
     },
     "metadata": {},
     "output_type": "display_data"
    }
   ],
   "source": [
    "df.duplicated().value_counts()"
   ]
  },
  {
   "cell_type": "code",
   "execution_count": null,
   "metadata": {},
   "outputs": [
    {
     "name": "stdout",
     "output_type": "stream",
     "text": [
      "   age_category  age_category_encoded\n",
      "0  Jeune adulte                     3\n",
      "1        Adulte                     1\n",
      "2        Adulte                     1\n",
      "3        Enfant                     2\n",
      "4        Enfant                     2\n",
      "   jour_sem  jour_sem_encoded\n",
      "0  Mercredi                 4\n",
      "1  Mercredi                 4\n",
      "2  Mercredi                 4\n",
      "3  Mercredi                 4\n",
      "4  Mercredi                 4\n"
     ]
    }
   ],
   "source": [
    "# Afficher un aperçu des colonnes 'age_category' et 'age_category_encoded'\n",
    "print(df[['age_category', 'age_category_encoded']].head())\n",
    "\n",
    "print(df[['jour_sem', 'jour_sem_encoded']].head())"
   ]
  },
  {
   "cell_type": "markdown",
   "metadata": {},
   "source": [
    "### 4.8 Suppression des variables Temps : an, an_nais, jour, mois, hrmn, age_usag, datetime_str, datetime"
   ]
  },
  {
   "cell_type": "code",
   "execution_count": null,
   "metadata": {},
   "outputs": [],
   "source": [
    "# Suppression des variables \"Temps\" du DataFrame df.\n",
    "df.drop(columns=['an', 'an_nais', 'jour', 'mois', 'hrmn', 'age_usag', 'datetime_str', 'datetime', 'age_category', 'jour_sem'], inplace=True)"
   ]
  },
  {
   "cell_type": "code",
   "execution_count": null,
   "metadata": {},
   "outputs": [],
   "source": [
    "df.drop(columns=[ 'col'], inplace=True)"
   ]
  },
  {
   "cell_type": "code",
   "execution_count": null,
   "metadata": {},
   "outputs": [
    {
     "data": {
      "text/plain": [
       "(2632301, 23)"
      ]
     },
     "metadata": {},
     "output_type": "display_data"
    }
   ],
   "source": [
    "df.shape"
   ]
  },
  {
   "cell_type": "code",
   "execution_count": null,
   "metadata": {},
   "outputs": [
    {
     "data": {
      "text/html": [
       "<div>\n",
       "<style scoped>\n",
       "    .dataframe tbody tr th:only-of-type {\n",
       "        vertical-align: middle;\n",
       "    }\n",
       "\n",
       "    .dataframe tbody tr th {\n",
       "        vertical-align: top;\n",
       "    }\n",
       "\n",
       "    .dataframe thead th {\n",
       "        text-align: right;\n",
       "    }\n",
       "</style>\n",
       "<table border=\"1\" class=\"dataframe\">\n",
       "  <thead>\n",
       "    <tr style=\"text-align: right;\">\n",
       "      <th></th>\n",
       "      <th>place</th>\n",
       "      <th>catu</th>\n",
       "      <th>grav</th>\n",
       "      <th>sexe</th>\n",
       "      <th>catv</th>\n",
       "      <th>obsm</th>\n",
       "      <th>choc</th>\n",
       "      <th>manv</th>\n",
       "      <th>lum</th>\n",
       "      <th>agg</th>\n",
       "      <th>int</th>\n",
       "      <th>atm</th>\n",
       "      <th>catr</th>\n",
       "      <th>circ</th>\n",
       "      <th>prof</th>\n",
       "      <th>plan</th>\n",
       "      <th>surf</th>\n",
       "      <th>infra</th>\n",
       "      <th>situ</th>\n",
       "      <th>hour_cat</th>\n",
       "      <th>age_category_encoded</th>\n",
       "      <th>jour_sem_encoded</th>\n",
       "    </tr>\n",
       "  </thead>\n",
       "  <tbody>\n",
       "    <tr>\n",
       "      <th>0</th>\n",
       "      <td>1.0</td>\n",
       "      <td>1</td>\n",
       "      <td>3</td>\n",
       "      <td>1.0</td>\n",
       "      <td>3.0</td>\n",
       "      <td>3.0</td>\n",
       "      <td>2.0</td>\n",
       "      <td>1.0</td>\n",
       "      <td>1.0</td>\n",
       "      <td>1</td>\n",
       "      <td>2.0</td>\n",
       "      <td>1.0</td>\n",
       "      <td>3</td>\n",
       "      <td>2.0</td>\n",
       "      <td>1.0</td>\n",
       "      <td>3.0</td>\n",
       "      <td>1.0</td>\n",
       "      <td>0.0</td>\n",
       "      <td>1.0</td>\n",
       "      <td>1.0</td>\n",
       "      <td>4</td>\n",
       "      <td>4</td>\n",
       "    </tr>\n",
       "    <tr>\n",
       "      <th>1</th>\n",
       "      <td>1.0</td>\n",
       "      <td>1</td>\n",
       "      <td>1</td>\n",
       "      <td>1.0</td>\n",
       "      <td>3.0</td>\n",
       "      <td>3.0</td>\n",
       "      <td>2.0</td>\n",
       "      <td>4.0</td>\n",
       "      <td>1.0</td>\n",
       "      <td>1</td>\n",
       "      <td>2.0</td>\n",
       "      <td>1.0</td>\n",
       "      <td>3</td>\n",
       "      <td>2.0</td>\n",
       "      <td>1.0</td>\n",
       "      <td>3.0</td>\n",
       "      <td>1.0</td>\n",
       "      <td>0.0</td>\n",
       "      <td>1.0</td>\n",
       "      <td>1.0</td>\n",
       "      <td>1</td>\n",
       "      <td>4</td>\n",
       "    </tr>\n",
       "    <tr>\n",
       "      <th>2</th>\n",
       "      <td>1.0</td>\n",
       "      <td>1</td>\n",
       "      <td>1</td>\n",
       "      <td>1.0</td>\n",
       "      <td>3.0</td>\n",
       "      <td>2.0</td>\n",
       "      <td>1.0</td>\n",
       "      <td>1.0</td>\n",
       "      <td>1.0</td>\n",
       "      <td>2</td>\n",
       "      <td>4.0</td>\n",
       "      <td>3.0</td>\n",
       "      <td>4</td>\n",
       "      <td>2.0</td>\n",
       "      <td>1.0</td>\n",
       "      <td>2.0</td>\n",
       "      <td>1.0</td>\n",
       "      <td>0.0</td>\n",
       "      <td>1.0</td>\n",
       "      <td>1.0</td>\n",
       "      <td>4</td>\n",
       "      <td>2</td>\n",
       "    </tr>\n",
       "    <tr>\n",
       "      <th>3</th>\n",
       "      <td>1.0</td>\n",
       "      <td>3</td>\n",
       "      <td>4</td>\n",
       "      <td>1.0</td>\n",
       "      <td>3.0</td>\n",
       "      <td>2.0</td>\n",
       "      <td>1.0</td>\n",
       "      <td>1.0</td>\n",
       "      <td>1.0</td>\n",
       "      <td>2</td>\n",
       "      <td>4.0</td>\n",
       "      <td>3.0</td>\n",
       "      <td>4</td>\n",
       "      <td>2.0</td>\n",
       "      <td>1.0</td>\n",
       "      <td>2.0</td>\n",
       "      <td>1.0</td>\n",
       "      <td>0.0</td>\n",
       "      <td>1.0</td>\n",
       "      <td>1.0</td>\n",
       "      <td>4</td>\n",
       "      <td>2</td>\n",
       "    </tr>\n",
       "    <tr>\n",
       "      <th>4</th>\n",
       "      <td>1.0</td>\n",
       "      <td>1</td>\n",
       "      <td>3</td>\n",
       "      <td>1.0</td>\n",
       "      <td>2.0</td>\n",
       "      <td>3.0</td>\n",
       "      <td>2.0</td>\n",
       "      <td>1.0</td>\n",
       "      <td>1.0</td>\n",
       "      <td>2</td>\n",
       "      <td>2.0</td>\n",
       "      <td>1.0</td>\n",
       "      <td>3</td>\n",
       "      <td>2.0</td>\n",
       "      <td>1.0</td>\n",
       "      <td>1.0</td>\n",
       "      <td>1.0</td>\n",
       "      <td>0.0</td>\n",
       "      <td>1.0</td>\n",
       "      <td>1.0</td>\n",
       "      <td>1</td>\n",
       "      <td>0</td>\n",
       "    </tr>\n",
       "  </tbody>\n",
       "</table>\n",
       "</div>"
      ],
      "text/plain": [
       "  place catu grav sexe catv obsm choc manv  lum agg  int  atm catr circ prof  \\\n",
       "0   1.0    1    3  1.0  3.0  3.0  2.0  1.0  1.0   1  2.0  1.0    3  2.0  1.0   \n",
       "1   1.0    1    1  1.0  3.0  3.0  2.0  4.0  1.0   1  2.0  1.0    3  2.0  1.0   \n",
       "2   1.0    1    1  1.0  3.0  2.0  1.0  1.0  1.0   2  4.0  3.0    4  2.0  1.0   \n",
       "3   1.0    3    4  1.0  3.0  2.0  1.0  1.0  1.0   2  4.0  3.0    4  2.0  1.0   \n",
       "4   1.0    1    3  1.0  2.0  3.0  2.0  1.0  1.0   2  2.0  1.0    3  2.0  1.0   \n",
       "\n",
       "  plan surf infra situ  hour_cat  age_category_encoded  jour_sem_encoded  \n",
       "0  3.0  1.0   0.0  1.0       1.0                     4                 4  \n",
       "1  3.0  1.0   0.0  1.0       1.0                     1                 4  \n",
       "2  2.0  1.0   0.0  1.0       1.0                     4                 2  \n",
       "3  2.0  1.0   0.0  1.0       1.0                     4                 2  \n",
       "4  1.0  1.0   0.0  1.0       1.0                     1                 0  "
      ]
     },
     "metadata": {},
     "output_type": "display_data"
    }
   ],
   "source": [
    "df.head()"
   ]
  },
  {
   "cell_type": "code",
   "execution_count": null,
   "metadata": {},
   "outputs": [
    {
     "data": {
      "text/plain": [
       "False    826025\n",
       "True     325304\n",
       "Name: count, dtype: int64"
      ]
     },
     "metadata": {},
     "output_type": "display_data"
    }
   ],
   "source": [
    "df.duplicated().value_counts()"
   ]
  },
  {
   "cell_type": "markdown",
   "metadata": {},
   "source": [
    "### 4.9 Conversion des variables object encodées en integer en vue de SelectKBest Chi²"
   ]
  },
  {
   "cell_type": "code",
   "execution_count": null,
   "metadata": {},
   "outputs": [],
   "source": [
    "# Parcourir toutes les colonnes du DataFrame\n",
    "for col in df.columns:\n",
    "    if df[col].dtype == 'object':\n",
    "        # Convertir la colonne en type 'int'\n",
    "        df[col] = df[col].astype('int')"
   ]
  },
  {
   "cell_type": "code",
   "execution_count": null,
   "metadata": {},
   "outputs": [
    {
     "data": {
      "text/plain": [
       "False    479283\n",
       "True     143023\n",
       "Name: count, dtype: int64"
      ]
     },
     "metadata": {},
     "output_type": "display_data"
    }
   ],
   "source": [
    "df.duplicated().value_counts()"
   ]
  },
  {
   "cell_type": "code",
   "execution_count": null,
   "metadata": {},
   "outputs": [],
   "source": [
    "df_save3 = df"
   ]
  },
  {
   "cell_type": "code",
   "execution_count": null,
   "metadata": {},
   "outputs": [
    {
     "data": {
      "text/plain": [
       "(1151329, 22)"
      ]
     },
     "metadata": {},
     "output_type": "display_data"
    }
   ],
   "source": [
    "df.shape"
   ]
  },
  {
   "cell_type": "code",
   "execution_count": null,
   "metadata": {},
   "outputs": [],
   "source": [
    "df = df.drop_duplicates()\n",
    "df = df.reset_index(drop=True)"
   ]
  },
  {
   "cell_type": "code",
   "execution_count": null,
   "metadata": {},
   "outputs": [
    {
     "data": {
      "text/plain": [
       "False    826025\n",
       "Name: count, dtype: int64"
      ]
     },
     "metadata": {},
     "output_type": "display_data"
    }
   ],
   "source": [
    "df.duplicated().value_counts()"
   ]
  },
  {
   "cell_type": "code",
   "execution_count": null,
   "metadata": {},
   "outputs": [
    {
     "data": {
      "text/plain": [
       "(622306, 22)"
      ]
     },
     "metadata": {},
     "output_type": "display_data"
    }
   ],
   "source": [
    "df.shape"
   ]
  },
  {
   "cell_type": "code",
   "execution_count": null,
   "metadata": {},
   "outputs": [
    {
     "data": {
      "text/html": [
       "<div>\n",
       "<style scoped>\n",
       "    .dataframe tbody tr th:only-of-type {\n",
       "        vertical-align: middle;\n",
       "    }\n",
       "\n",
       "    .dataframe tbody tr th {\n",
       "        vertical-align: top;\n",
       "    }\n",
       "\n",
       "    .dataframe thead th {\n",
       "        text-align: right;\n",
       "    }\n",
       "</style>\n",
       "<table border=\"1\" class=\"dataframe\">\n",
       "  <thead>\n",
       "    <tr style=\"text-align: right;\">\n",
       "      <th></th>\n",
       "      <th>place</th>\n",
       "      <th>catu</th>\n",
       "      <th>grav</th>\n",
       "      <th>sexe</th>\n",
       "      <th>catv</th>\n",
       "      <th>obsm</th>\n",
       "      <th>choc</th>\n",
       "      <th>manv</th>\n",
       "      <th>lum</th>\n",
       "      <th>agg</th>\n",
       "      <th>int</th>\n",
       "      <th>atm</th>\n",
       "      <th>catr</th>\n",
       "      <th>circ</th>\n",
       "      <th>prof</th>\n",
       "      <th>plan</th>\n",
       "      <th>surf</th>\n",
       "      <th>infra</th>\n",
       "      <th>situ</th>\n",
       "      <th>hour_cat</th>\n",
       "      <th>age_category_encoded</th>\n",
       "      <th>jour_sem_encoded</th>\n",
       "    </tr>\n",
       "  </thead>\n",
       "  <tbody>\n",
       "    <tr>\n",
       "      <th>0</th>\n",
       "      <td>1</td>\n",
       "      <td>1</td>\n",
       "      <td>3</td>\n",
       "      <td>1</td>\n",
       "      <td>3</td>\n",
       "      <td>3</td>\n",
       "      <td>2</td>\n",
       "      <td>1</td>\n",
       "      <td>1</td>\n",
       "      <td>1</td>\n",
       "      <td>2</td>\n",
       "      <td>1</td>\n",
       "      <td>3</td>\n",
       "      <td>2</td>\n",
       "      <td>1</td>\n",
       "      <td>3</td>\n",
       "      <td>1</td>\n",
       "      <td>0</td>\n",
       "      <td>1</td>\n",
       "      <td>1.0</td>\n",
       "      <td>4</td>\n",
       "      <td>4</td>\n",
       "    </tr>\n",
       "    <tr>\n",
       "      <th>1</th>\n",
       "      <td>1</td>\n",
       "      <td>1</td>\n",
       "      <td>1</td>\n",
       "      <td>1</td>\n",
       "      <td>3</td>\n",
       "      <td>3</td>\n",
       "      <td>2</td>\n",
       "      <td>4</td>\n",
       "      <td>1</td>\n",
       "      <td>1</td>\n",
       "      <td>2</td>\n",
       "      <td>1</td>\n",
       "      <td>3</td>\n",
       "      <td>2</td>\n",
       "      <td>1</td>\n",
       "      <td>3</td>\n",
       "      <td>1</td>\n",
       "      <td>0</td>\n",
       "      <td>1</td>\n",
       "      <td>1.0</td>\n",
       "      <td>1</td>\n",
       "      <td>4</td>\n",
       "    </tr>\n",
       "    <tr>\n",
       "      <th>2</th>\n",
       "      <td>1</td>\n",
       "      <td>1</td>\n",
       "      <td>1</td>\n",
       "      <td>1</td>\n",
       "      <td>3</td>\n",
       "      <td>2</td>\n",
       "      <td>1</td>\n",
       "      <td>1</td>\n",
       "      <td>1</td>\n",
       "      <td>2</td>\n",
       "      <td>4</td>\n",
       "      <td>3</td>\n",
       "      <td>4</td>\n",
       "      <td>2</td>\n",
       "      <td>1</td>\n",
       "      <td>2</td>\n",
       "      <td>1</td>\n",
       "      <td>0</td>\n",
       "      <td>1</td>\n",
       "      <td>1.0</td>\n",
       "      <td>4</td>\n",
       "      <td>2</td>\n",
       "    </tr>\n",
       "    <tr>\n",
       "      <th>3</th>\n",
       "      <td>1</td>\n",
       "      <td>3</td>\n",
       "      <td>4</td>\n",
       "      <td>1</td>\n",
       "      <td>3</td>\n",
       "      <td>2</td>\n",
       "      <td>1</td>\n",
       "      <td>1</td>\n",
       "      <td>1</td>\n",
       "      <td>2</td>\n",
       "      <td>4</td>\n",
       "      <td>3</td>\n",
       "      <td>4</td>\n",
       "      <td>2</td>\n",
       "      <td>1</td>\n",
       "      <td>2</td>\n",
       "      <td>1</td>\n",
       "      <td>0</td>\n",
       "      <td>1</td>\n",
       "      <td>1.0</td>\n",
       "      <td>4</td>\n",
       "      <td>2</td>\n",
       "    </tr>\n",
       "    <tr>\n",
       "      <th>4</th>\n",
       "      <td>1</td>\n",
       "      <td>1</td>\n",
       "      <td>3</td>\n",
       "      <td>1</td>\n",
       "      <td>2</td>\n",
       "      <td>3</td>\n",
       "      <td>2</td>\n",
       "      <td>1</td>\n",
       "      <td>1</td>\n",
       "      <td>2</td>\n",
       "      <td>2</td>\n",
       "      <td>1</td>\n",
       "      <td>3</td>\n",
       "      <td>2</td>\n",
       "      <td>1</td>\n",
       "      <td>1</td>\n",
       "      <td>1</td>\n",
       "      <td>0</td>\n",
       "      <td>1</td>\n",
       "      <td>1.0</td>\n",
       "      <td>1</td>\n",
       "      <td>0</td>\n",
       "    </tr>\n",
       "  </tbody>\n",
       "</table>\n",
       "</div>"
      ],
      "text/plain": [
       "   place  catu  grav  sexe  catv  obsm  choc  manv  lum  agg  int  atm  catr  \\\n",
       "0      1     1     3     1     3     3     2     1    1    1    2    1     3   \n",
       "1      1     1     1     1     3     3     2     4    1    1    2    1     3   \n",
       "2      1     1     1     1     3     2     1     1    1    2    4    3     4   \n",
       "3      1     3     4     1     3     2     1     1    1    2    4    3     4   \n",
       "4      1     1     3     1     2     3     2     1    1    2    2    1     3   \n",
       "\n",
       "   circ  prof  plan  surf  infra  situ  hour_cat  age_category_encoded  \\\n",
       "0     2     1     3     1      0     1       1.0                     4   \n",
       "1     2     1     3     1      0     1       1.0                     1   \n",
       "2     2     1     2     1      0     1       1.0                     4   \n",
       "3     2     1     2     1      0     1       1.0                     4   \n",
       "4     2     1     1     1      0     1       1.0                     1   \n",
       "\n",
       "   jour_sem_encoded  \n",
       "0                 4  \n",
       "1                 4  \n",
       "2                 2  \n",
       "3                 2  \n",
       "4                 0  "
      ]
     },
     "metadata": {},
     "output_type": "display_data"
    }
   ],
   "source": [
    "df.head()"
   ]
  },
  {
   "cell_type": "markdown",
   "metadata": {},
   "source": [
    "### 4.10 SelectKBest - Chi² "
   ]
  },
  {
   "cell_type": "code",
   "execution_count": null,
   "metadata": {},
   "outputs": [],
   "source": [
    "# Diviser les données en fonction des caractéristiques (X) et de la cible (y)\n",
    "X = df.drop(columns=['grav'])  # Caractéristiques\n",
    "y = df['grav']  # Cible"
   ]
  },
  {
   "cell_type": "code",
   "execution_count": null,
   "metadata": {},
   "outputs": [
    {
     "data": {
      "text/plain": [
       "array([[ 1,  1,  1, ..., 17,  3,  4],\n",
       "       [ 1,  1,  2, ..., 17,  1,  4],\n",
       "       [ 2,  2,  1, ..., 17,  1,  4],\n",
       "       ...,\n",
       "       [ 1,  1,  2, ...,  1,  4,  5],\n",
       "       [ 1,  1,  1, ...,  1,  3,  3],\n",
       "       [ 1,  1,  1, ...,  1,  3,  3]], dtype=int64)"
      ]
     },
     "metadata": {},
     "output_type": "display_data"
    }
   ],
   "source": [
    "k_best = SelectKBest(chi2, k=23)\n",
    "k_best.fit_transform(X, y)"
   ]
  },
  {
   "cell_type": "markdown",
   "metadata": {},
   "source": [
    "Chi² sur la période 2014-2022"
   ]
  },
  {
   "cell_type": "code",
   "execution_count": null,
   "metadata": {},
   "outputs": [
    {
     "name": "stdout",
     "output_type": "stream",
     "text": [
      "                Variable    Chi2 Score  Proportion\n",
      "4                   obsm  58126.738717   17.382539\n",
      "1                   catu  53399.534931   15.968890\n",
      "3                   catv  42522.293551   12.716100\n",
      "0                  place  33915.195249   10.142186\n",
      "11                   col  21672.857243    6.481170\n",
      "18                  situ  17854.678925    5.339361\n",
      "6                   manv  16503.984341    4.935442\n",
      "5                   choc  15363.965494    4.594525\n",
      "8                    agg  13895.489751    4.155383\n",
      "15                  plan  13477.737438    4.030457\n",
      "9                    int  11769.974705    3.519758\n",
      "19              hour_cat   5979.776602    1.788225\n",
      "20  age_category_encoded   5792.179580    1.732125\n",
      "10                   atm   5364.240487    1.604152\n",
      "2                   sexe   4943.932162    1.478461\n",
      "12                  catr   3992.896491    1.194058\n",
      "7                    lum   3838.329720    1.147835\n",
      "16                  surf   2058.214130    0.615500\n",
      "17                 infra   1551.704683    0.464030\n",
      "14                  prof    804.742772    0.240655\n",
      "13                  circ    798.963713    0.238926\n",
      "21      jour_sem_encoded    769.860368    0.230223\n"
     ]
    }
   ],
   "source": [
    "# Créer un DataFrame pour stocker les résultats du test chi²\n",
    "chi2_results = pd.DataFrame({'Variable': X.columns, 'Chi2 Score': k_best.scores_})\n",
    "\n",
    "# Trier les résultats par score chi² de manière décroissante\n",
    "chi2_results_sorted = chi2_results.sort_values(by='Chi2 Score', ascending=False)\n",
    "\n",
    "# Calculer la somme des scores chi² de toutes les variables\n",
    "total_chi2_score = chi2_results_sorted['Chi2 Score'].sum()\n",
    "\n",
    "# Créer une colonne pour stocker la proportion de chaque variable\n",
    "chi2_results_sorted['Proportion'] = (chi2_results_sorted['Chi2 Score'] / total_chi2_score) * 100\n",
    "\n",
    "# Afficher les résultats avec la nouvelle colonne\n",
    "print(chi2_results_sorted)\n"
   ]
  },
  {
   "cell_type": "markdown",
   "metadata": {},
   "source": [
    "Chi² sur la période 2005-2022"
   ]
  },
  {
   "cell_type": "code",
   "execution_count": null,
   "metadata": {},
   "outputs": [
    {
     "name": "stdout",
     "output_type": "stream",
     "text": [
      "                Variable    Chi2 Score  Proportion\n",
      "1                   catu  13042.337107   18.825743\n",
      "3                   catv  12423.584363   17.932615\n",
      "4                   obsm   9166.027061   13.230548\n",
      "16                 infra   6197.838366    8.946166\n",
      "0                  place   6024.293854    8.695666\n",
      "6                   manv   5341.546974    7.710167\n",
      "8                    agg   3315.803285    4.786141\n",
      "14                  plan   2669.596951    3.853385\n",
      "17                  situ   2602.285942    3.756226\n",
      "19  age_category_encoded   2389.466282    3.449035\n",
      "9                    int   2277.784039    3.287829\n",
      "2                   sexe   1225.571859    1.769031\n",
      "7                    lum    770.298322    1.111874\n",
      "11                  catr    513.817802    0.741662\n",
      "18              hour_cat    424.942918    0.613377\n",
      "5                   choc    276.893031    0.399677\n",
      "12                  circ    272.819695    0.393797\n",
      "13                  prof    151.790970    0.219100\n",
      "20      jour_sem_encoded    112.824771    0.162855\n",
      "15                  surf     52.651061    0.075998\n",
      "10                   atm     27.093315    0.039107\n"
     ]
    }
   ],
   "source": [
    "# Créer un DataFrame pour stocker les résultats du test chi²\n",
    "chi2_results = pd.DataFrame({'Variable': X.columns, 'Chi2 Score': k_best.scores_})\n",
    "\n",
    "# Trier les résultats par score chi² de manière décroissante\n",
    "chi2_results_sorted = chi2_results.sort_values(by='Chi2 Score', ascending=False)\n",
    "\n",
    "# Calculer la somme des scores chi² de toutes les variables\n",
    "total_chi2_score = chi2_results_sorted['Chi2 Score'].sum()\n",
    "\n",
    "# Créer une colonne pour stocker la proportion de chaque variable\n",
    "chi2_results_sorted['Proportion'] = (chi2_results_sorted['Chi2 Score'] / total_chi2_score) * 100\n",
    "\n",
    "# Afficher les résultats avec la nouvelle colonne\n",
    "print(chi2_results_sorted)\n"
   ]
  },
  {
   "cell_type": "markdown",
   "metadata": {},
   "source": [
    "## 5. OneHot Encoded via get_dummies de df - 8 variables - 2005-2022"
   ]
  },
  {
   "cell_type": "code",
   "execution_count": null,
   "metadata": {},
   "outputs": [],
   "source": [
    "y = df['grav']  # Cible"
   ]
  },
  {
   "cell_type": "code",
   "execution_count": null,
   "metadata": {},
   "outputs": [
    {
     "data": {
      "text/plain": [
       "(2632301, 8)"
      ]
     },
     "metadata": {},
     "output_type": "display_data"
    }
   ],
   "source": [
    "# Liste des variables à conserver = 8 variables\n",
    "variables_a_garder = ['catu', 'catv', 'obsm', 'place', 'manv', 'situ', 'agg', 'plan']\n",
    "\n",
    "# Garder seulement les colonnes spécifiées\n",
    "df = df.filter(variables_a_garder)\n",
    "df.shape"
   ]
  },
  {
   "cell_type": "code",
   "execution_count": null,
   "metadata": {},
   "outputs": [],
   "source": [
    "\n",
    "df = df.astype('object')\n",
    "# Créer un nouveau DataFrame avec les variables catégorielles encodées en one-hot\n",
    "\n",
    "df1 = df\n",
    "df_encoded = pd.get_dummies(df1)\n"
   ]
  },
  {
   "cell_type": "code",
   "execution_count": null,
   "metadata": {},
   "outputs": [],
   "source": [
    "# Afficher le nouveau DataFrame\n",
    "df_encoded.shape\n",
    "\n",
    "X = df_encoded  # Caractéristiques"
   ]
  },
  {
   "cell_type": "code",
   "execution_count": null,
   "metadata": {},
   "outputs": [
    {
     "data": {
      "text/plain": [
       "(2632301, 48)"
      ]
     },
     "metadata": {},
     "output_type": "display_data"
    }
   ],
   "source": [
    "df_encoded.shape"
   ]
  },
  {
   "cell_type": "code",
   "execution_count": null,
   "metadata": {},
   "outputs": [],
   "source": [
    "# Diviser l'ensemble de données en ensembles d'entraînement et de test tout en conservant les proportions de la cible\n",
    "X_train, X_test, y_train, y_test = train_test_split(X, y, test_size=0.2, random_state=42)\n",
    "\n",
    "# Appliquer l'undersampling sur l'ensemble d'entraînement\n",
    "rus = RandomUnderSampler(random_state=42, sampling_strategy='auto')\n",
    "X_train_resampled, y_train_resampled = rus.fit_resample(X_train, y_train)"
   ]
  },
  {
   "cell_type": "markdown",
   "metadata": {},
   "source": [
    "## 5.BIS X, y, OneHotEncoded - Train et Test set et undersampling à 15 variables - 2014-2022"
   ]
  },
  {
   "cell_type": "code",
   "execution_count": null,
   "metadata": {},
   "outputs": [],
   "source": [
    "y = df['grav']  # Cible"
   ]
  },
  {
   "cell_type": "code",
   "execution_count": null,
   "metadata": {},
   "outputs": [
    {
     "data": {
      "text/plain": [
       "(826025, 15)"
      ]
     },
     "metadata": {},
     "output_type": "display_data"
    }
   ],
   "source": [
    "# Liste des variables à conserver = 15 variables\n",
    "variables_a_garder_14 = ['catu', 'catv', 'obsm', 'place', 'manv', 'situ', 'agg', 'plan', 'age_category_encoded', 'int', 'sexe', 'lum', 'hour_cat', 'catr', 'choc']\n",
    "\n",
    "# Garder seulement les colonnes spécifiées\n",
    "df_14 = df.filter(variables_a_garder_14)\n",
    "df_14.shape"
   ]
  },
  {
   "cell_type": "code",
   "execution_count": null,
   "metadata": {},
   "outputs": [],
   "source": [
    "df_14 = df_14.astype('object')\n",
    "# Créer un nouveau DataFrame avec les variables catégorielles encodées en one-hot\n",
    "\n",
    "df14 = df_14\n",
    "df_encoded_14 = pd.get_dummies(df_14, drop_first = True)"
   ]
  },
  {
   "cell_type": "code",
   "execution_count": null,
   "metadata": {},
   "outputs": [],
   "source": [
    "X = df_encoded_14 "
   ]
  },
  {
   "cell_type": "code",
   "execution_count": null,
   "metadata": {},
   "outputs": [],
   "source": [
    "from imblearn.under_sampling import RandomUnderSampler\n",
    "from sklearn.model_selection import train_test_split\n",
    "\n",
    "# Appliquer l'undersampling sur X et y en spécifiant un random_state\n",
    "undersample = RandomUnderSampler(random_state=42)\n",
    "X_resampled, y_resampled = undersample.fit_resample(X, y)\n",
    "\n",
    "# Diviser les données en ensembles d'entraînement et de test\n",
    "X_train, X_test, y_train, y_test = train_test_split(X_resampled, y_resampled, test_size=0.2, random_state=42, stratify=y_resampled)"
   ]
  },
  {
   "cell_type": "code",
   "execution_count": null,
   "metadata": {},
   "outputs": [],
   "source": [
    "# Créer un dossier pour stocker les fichiers CSV si ce dossier n'existe pas déjà\n",
    "output_folder = \"train_test_data\"\n",
    "\n",
    "if not os.path.exists(output_folder):\n",
    "\n",
    "    os.makedirs(output_folder)\n",
    "\n",
    "# Exporter les données d'entraînement et de test en CSV\n",
    "\n",
    "datasets = {'train': (X_train, y_train), 'test': (X_test, y_test)}\n",
    "\n",
    "for dataset_name, (X, y) in datasets.items():\n",
    "\n",
    "    # Convertir X et y en DataFrames pandas\n",
    "\n",
    "    X_df = pd.DataFrame(X)\n",
    "\n",
    "    y_df = pd.DataFrame(y)\n",
    "    \n",
    "\n",
    "    # Concaténer X et y en un seul DataFrame\n",
    "\n",
    "    dataset_df = pd.concat([X_df, y_df], axis=1)\n",
    "    \n",
    "\n",
    "    # Exporter le DataFrame au format CSV\n",
    "\n",
    "    output_filename = os.path.join(output_folder, f\"{dataset_name}_data15variables_dropFirst_stratified_NoDoublons.csv\")\n",
    "\n",
    "    dataset_df.to_csv(output_filename, index=False)"
   ]
  }
 ],
 "metadata": {
  "kernelspec": {
   "display_name": "venv",
   "language": "python",
   "name": "python3"
  },
  "language_info": {
   "codemirror_mode": {
    "name": "ipython",
    "version": 3
   },
   "file_extension": ".py",
   "mimetype": "text/x-python",
   "name": "python",
   "nbconvert_exporter": "python",
   "pygments_lexer": "ipython3",
   "version": "3.11.5"
  }
 },
 "nbformat": 4,
 "nbformat_minor": 2
}
